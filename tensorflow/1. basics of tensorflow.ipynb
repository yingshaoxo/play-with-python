{
 "cells": [
  {
   "cell_type": "markdown",
   "metadata": {},
   "source": [
    "# Introduction\n",
    "\n",
    "It's just a computation library that you can find that works with Python.\n",
    "\n",
    "It supports a lot of math operations.\n",
    "\n",
    "Such as:\n",
    "\n",
    "* tf.add(x, y)—Adds two tensors of the same type, x + y\n",
    "* tf.subtract(x, y)—Subtracts tensors of the same type, x – y\n",
    "* tf.multiply(x, y)—Multiplies two tensors elementwise\n",
    "* tf.pow(x, y)—Takes the elementwise x to the power of y\n",
    "* tf.exp(x)—Equivalent to pow(e, x), where e is Euler’s number (2.718 ...)\n",
    "* tf.sqrt(x)—Equivalent to pow(x, 0.5)\n",
    "* tf.div(x, y)—Takes the elementwise division of x and y\n",
    "* tf.truediv(x, y)—Same as tf.div, but casts the arguments as a float\n",
    "* tf.floordiv(x, y)—Same as truediv, but rounds down the final answer into an\n",
    "* integer\n",
    "* tf.mod(x, y)—Takes the elementwise remainder from division"
   ]
  },
  {
   "cell_type": "markdown",
   "metadata": {},
   "source": [
    "# The first run"
   ]
  },
  {
   "cell_type": "code",
   "execution_count": null,
   "metadata": {},
   "outputs": [],
   "source": [
    "!conda install python=3.8 -y "
   ]
  },
  {
   "cell_type": "code",
   "execution_count": null,
   "metadata": {},
   "outputs": [],
   "source": [
    "!conda install -c anaconda tensorflow -y "
   ]
  },
  {
   "cell_type": "code",
   "execution_count": null,
   "metadata": {},
   "outputs": [],
   "source": []
  },
  {
   "cell_type": "code",
   "execution_count": 1,
   "metadata": {},
   "outputs": [],
   "source": [
    "import tensorflow as tf"
   ]
  },
  {
   "cell_type": "code",
   "execution_count": 4,
   "metadata": {},
   "outputs": [],
   "source": [
    "x = tf.constant([1., 2.])\n",
    "neg_op = tf.negative(x)"
   ]
  },
  {
   "cell_type": "code",
   "execution_count": 7,
   "metadata": {},
   "outputs": [
    {
     "name": "stdout",
     "output_type": "stream",
     "text": [
      "tf.Tensor([-1. -2.], shape=(2,), dtype=float32)\n"
     ]
    }
   ],
   "source": [
    "print(neg_op)"
   ]
  },
  {
   "cell_type": "code",
   "execution_count": null,
   "metadata": {},
   "outputs": [],
   "source": []
  }
 ],
 "metadata": {
  "kernelspec": {
   "display_name": "Python 3",
   "language": "python",
   "name": "python3"
  },
  "language_info": {
   "codemirror_mode": {
    "name": "ipython",
    "version": 3
   },
   "file_extension": ".py",
   "mimetype": "text/x-python",
   "name": "python",
   "nbconvert_exporter": "python",
   "pygments_lexer": "ipython3",
   "version": "3.8.5"
  }
 },
 "nbformat": 4,
 "nbformat_minor": 4
}
