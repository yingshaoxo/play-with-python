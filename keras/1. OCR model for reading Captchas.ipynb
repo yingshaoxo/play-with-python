{
 "cells": [
  {
   "cell_type": "markdown",
   "id": "biblical-vessel",
   "metadata": {},
   "source": [
    "# Introduction\n",
    "\n",
    "This example demonstrates a simple OCR model built with the Functional API. Apart from combining CNN and RNN, it also illustrates how you can instantiate a new layer and use it as an \"Endpoint layer\" for implementing CTC loss. \n",
    "\n",
    "https://keras.io/examples/vision/captcha_ocr/"
   ]
  },
  {
   "cell_type": "markdown",
   "id": "combined-retailer",
   "metadata": {},
   "source": [
    "# Setup"
   ]
  },
  {
   "cell_type": "code",
   "execution_count": 6,
   "id": "pressing-shannon",
   "metadata": {},
   "outputs": [],
   "source": [
    "import os\n",
    "import numpy as np\n",
    "import matplotlib.pyplot as plt\n",
    "\n",
    "from pathlib import Path\n",
    "from collections import Counter\n",
    "\n",
    "import tensorflow as tf\n",
    "from tensorflow import keras\n",
    "from tensorflow.keras import layers"
   ]
  },
  {
   "cell_type": "code",
   "execution_count": 7,
   "id": "criminal-revelation",
   "metadata": {},
   "outputs": [],
   "source": [
    "from auto_everything.disk import Disk\n",
    "from auto_everything.terminal import Terminal\n",
    "disk = Disk()\n",
    "t = Terminal()"
   ]
  },
  {
   "cell_type": "code",
   "execution_count": 8,
   "id": "touched-heather",
   "metadata": {},
   "outputs": [
    {
     "data": {
      "text/plain": [
       "'/home/yingshaoxo/Keras_Lab/ocr_for_captchas'"
      ]
     },
     "execution_count": 8,
     "metadata": {},
     "output_type": "execute_result"
    }
   ],
   "source": [
    "root_folder = disk.create_a_new_folder_under_home(\"Keras_Lab/ocr_for_captchas\")\n",
    "root_folder"
   ]
  },
  {
   "cell_type": "markdown",
   "id": "hindu-dairy",
   "metadata": {},
   "source": [
    "# Load the data"
   ]
  },
  {
   "cell_type": "code",
   "execution_count": 13,
   "id": "circular-fisher",
   "metadata": {},
   "outputs": [
    {
     "name": "stdout",
     "output_type": "stream",
     "text": [
      "Now you got 1041 images.\n"
     ]
    }
   ],
   "source": [
    "download_file = os.path.join(root_folder, \"captcha_images_v2.zip\")\n",
    "images_folder = os.path.join(root_folder, \"captcha_images_v2\")\n",
    "\n",
    "if not disk.exists(download_file):\n",
    "    t.run_command(\n",
    "        f\"\"\"\n",
    "    wget https://github.com/AakashKumarNain/CaptchaCracker/raw/master/captcha_images_v2.zip -P {root_folder}\n",
    "        \"\"\"\n",
    "    )\n",
    "    \n",
    "if not disk.exists(images_folder):\n",
    "    disk.uncompress(download_file, images_folder)\n",
    "    \n",
    "print(f\"Now you got {len(os.listdir(images_folder))} images.\")"
   ]
  },
  {
   "cell_type": "code",
   "execution_count": null,
   "id": "greatest-electronics",
   "metadata": {},
   "outputs": [],
   "source": []
  }
 ],
 "metadata": {
  "kernelspec": {
   "display_name": "Python 3",
   "language": "python",
   "name": "python3"
  },
  "language_info": {
   "codemirror_mode": {
    "name": "ipython",
    "version": 3
   },
   "file_extension": ".py",
   "mimetype": "text/x-python",
   "name": "python",
   "nbconvert_exporter": "python",
   "pygments_lexer": "ipython3",
   "version": "3.8.5"
  }
 },
 "nbformat": 4,
 "nbformat_minor": 5
}
