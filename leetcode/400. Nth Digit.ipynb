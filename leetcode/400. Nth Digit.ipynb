{
 "cells": [
  {
   "cell_type": "markdown",
   "id": "extensive-summer",
   "metadata": {},
   "source": [
    "https://leetcode.com/problems/nth-digit/\n",
    "\n",
    "\n",
    "Time Out\n",
    "\n",
    "\n",
    "```python\n",
    "class Solution:\n",
    "    def findNthDigit(self, n: int) -> int:\n",
    "        #5:50\n",
    "        i = 1\n",
    "        string = \"\"\n",
    "        while len(string) < n:\n",
    "            string += str(i)\n",
    "            i += 1\n",
    "        return int(string[n-1])\n",
    "        #5:56\n",
    "```"
   ]
  },
  {
   "cell_type": "code",
   "execution_count": null,
   "id": "purple-sustainability",
   "metadata": {},
   "outputs": [],
   "source": []
  }
 ],
 "metadata": {
  "kernelspec": {
   "display_name": "Python 3",
   "language": "python",
   "name": "python3"
  },
  "language_info": {
   "codemirror_mode": {
    "name": "ipython",
    "version": 3
   },
   "file_extension": ".py",
   "mimetype": "text/x-python",
   "name": "python",
   "nbconvert_exporter": "python",
   "pygments_lexer": "ipython3",
   "version": "3.8.5"
  }
 },
 "nbformat": 4,
 "nbformat_minor": 5
}
