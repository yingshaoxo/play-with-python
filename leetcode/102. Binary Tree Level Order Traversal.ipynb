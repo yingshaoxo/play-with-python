{
 "cells": [
  {
   "cell_type": "markdown",
   "id": "french-collins",
   "metadata": {},
   "source": [
    "https://leetcode.com/problems/binary-tree-level-order-traversal\n",
    "\n",
    "\n",
    "Runtime: 32 ms, faster than 84.82% of Python3 online submissions for Binary Tree Level Order Traversal.\n",
    "Memory Usage: 14.7 MB, less than 27.82% of Python3 online submissions for Binary Tree Level Order Traversal.\n",
    "\n",
    "\n",
    "```python\n",
    "# Definition for a binary tree node.\n",
    "# class TreeNode:\n",
    "#     def __init__(self, val=0, left=None, right=None):\n",
    "#         self.val = val\n",
    "#         self.left = left\n",
    "#         self.right = right\n",
    "class Solution:\n",
    "    def levelOrder(self, root: TreeNode) -> List[List[int]]:\n",
    "        return self.travel(root)\n",
    "        \n",
    "    def travel(self, root):\n",
    "        if root == None:\n",
    "            return []\n",
    "        list_of_vals = []\n",
    "        level_list = [[root]]\n",
    "        results = [[root.val]]\n",
    "        \n",
    "        while True:\n",
    "            current_level = level_list[-1]\n",
    "            #print(current_level)\n",
    "            level_list.append([])\n",
    "            results.append([])\n",
    "            i = 0\n",
    "            while i < len(current_level):\n",
    "                node = current_level[i]\n",
    "\n",
    "                list_of_vals.append(node.val)\n",
    "\n",
    "                if node.left:\n",
    "                    level_list[-1].append(node.left)\n",
    "                    results[-1].append(node.left.val)\n",
    "\n",
    "                if node.right:\n",
    "                    level_list[-1].append(node.right)\n",
    "                    results[-1].append(node.right.val)\n",
    "                \n",
    "                i += 1\n",
    "            \n",
    "            if len(level_list[-1]) == 0:\n",
    "                break\n",
    "\n",
    "        return results[:-1]\n",
    "```"
   ]
  },
  {
   "cell_type": "code",
   "execution_count": null,
   "id": "romance-letter",
   "metadata": {},
   "outputs": [],
   "source": []
  }
 ],
 "metadata": {
  "kernelspec": {
   "display_name": "Python 3",
   "language": "python",
   "name": "python3"
  },
  "language_info": {
   "codemirror_mode": {
    "name": "ipython",
    "version": 3
   },
   "file_extension": ".py",
   "mimetype": "text/x-python",
   "name": "python",
   "nbconvert_exporter": "python",
   "pygments_lexer": "ipython3",
   "version": "3.8.5"
  }
 },
 "nbformat": 4,
 "nbformat_minor": 5
}
