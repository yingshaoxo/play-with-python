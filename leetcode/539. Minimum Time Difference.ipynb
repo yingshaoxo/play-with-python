{
 "cells": [
  {
   "cell_type": "markdown",
   "metadata": {},
   "source": [
    "https://leetcode.com/problems/minimum-time-difference\n",
    "\n",
    "\n",
    "\n",
    "Runtime: 1072 ms, faster than 5.80% of Python3 online submissions for Minimum Time Difference.\n",
    "Memory Usage: 17.4 MB, less than 7.83% of Python3 online submissions for Minimum Time Difference.\n",
    "\n",
    "\n",
    "\n",
    "```python\n",
    "import datetime\n",
    "\n",
    "class Solution:\n",
    "    def parse(self, s):\n",
    "        datetimeFormat = '%H:%M'\n",
    "        return datetime.datetime.strptime(s, datetimeFormat)\n",
    "    \n",
    "    def difference(self, date1):\n",
    "        diff = self.parse(date1) - self.parse(\"00:00\")\n",
    "        return diff.seconds\n",
    "        \n",
    "    def method1(self, timePoints: List[str]) -> int:\n",
    "        timePoints.sort(key=self.difference)\n",
    "        mim = float(\"inf\")\n",
    "        i = 0\n",
    "        while i+1 < len(timePoints):\n",
    "            diff = self.parse(timePoints[i+1]) - self.parse(timePoints[i])\n",
    "            if abs(diff.seconds) < mim:\n",
    "                mim = abs(diff.seconds)\n",
    "            i += 1\n",
    "        diff = self.parse(timePoints[-1]) - self.parse(timePoints[0])\n",
    "        if abs(diff.seconds) < mim:\n",
    "            mim = abs(diff.seconds)\n",
    "        return mim/60\n",
    "    \n",
    "    def method2(self, timePoints: List[str]) -> int:\n",
    "        timePoints.sort(key=self.difference)\n",
    "        mim = float(\"inf\")\n",
    "        i = 0\n",
    "        while i+1 < len(timePoints):\n",
    "            diff = self.parse(timePoints[i+1]) - self.parse(timePoints[i])\n",
    "            if abs(60*60*24 - abs(diff.seconds)) < mim:\n",
    "                mim = abs(60*60*24 - abs(diff.seconds))\n",
    "            i += 1\n",
    "        diff = self.parse(timePoints[-1]) - self.parse(timePoints[0])\n",
    "        if abs(60*60*24 - abs(diff.seconds)) < mim:\n",
    "            mim = abs(60*60*24 - abs(diff.seconds))\n",
    "        return mim/60\n",
    "        \n",
    "    def findMinDifference(self, timePoints: List[str]) -> int:\n",
    "        return int(min(self.method1(timePoints), self.method2(timePoints)))\n",
    "```\n",
    "\n",
    "\n",
    "Spent 2 hours\n",
    "\n",
    "One shoot"
   ]
  },
  {
   "cell_type": "code",
   "execution_count": null,
   "metadata": {},
   "outputs": [],
   "source": []
  }
 ],
 "metadata": {
  "kernelspec": {
   "display_name": "Python 3",
   "language": "python",
   "name": "python3"
  },
  "language_info": {
   "codemirror_mode": {
    "name": "ipython",
    "version": 3
   },
   "file_extension": ".py",
   "mimetype": "text/x-python",
   "name": "python",
   "nbconvert_exporter": "python",
   "pygments_lexer": "ipython3",
   "version": "3.9.0"
  }
 },
 "nbformat": 4,
 "nbformat_minor": 4
}
