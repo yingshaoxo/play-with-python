{
 "cells": [
  {
   "cell_type": "code",
   "execution_count": 7,
   "id": "da75986e-84c3-48c5-a7fc-2febbf0f6502",
   "metadata": {},
   "outputs": [
    {
     "name": "stdout",
     "output_type": "stream",
     "text": [
      "[[1, 2, 3, 4], [2, 3, 4, 5], [3, 4, 5, 6]]\n"
     ]
    }
   ],
   "source": [
    "def get_slice_windows(arr, size: int):\n",
    "    slices = [arr[:size]]\n",
    "    end = size\n",
    "    while True:\n",
    "        if end >= len(arr):\n",
    "            return slices\n",
    "        else:\n",
    "            end += 1\n",
    "            sub_array = arr[end-size:end]\n",
    "            sub_array.sort()\n",
    "            slices.append(sub_array)\n",
    "    \n",
    "\n",
    "arr = [1,2,3,4,5,6]\n",
    "print(get_slice_windows(arr, 4))"
   ]
  },
  {
   "cell_type": "code",
   "execution_count": null,
   "id": "01a37508-0c61-4023-ae0b-dff006596ccb",
   "metadata": {},
   "outputs": [],
   "source": []
  },
  {
   "cell_type": "code",
   "execution_count": null,
   "id": "c67b8522-60b4-4d8f-9bc6-58879ec792fd",
   "metadata": {},
   "outputs": [],
   "source": []
  },
  {
   "cell_type": "markdown",
   "id": "a8f5233f-b5d0-4d9e-b71d-1375358ceccb",
   "metadata": {},
   "source": [
    "https://leetcode.com/problems/contains-duplicate-iii\n",
    "\n",
    "\n",
    "Time Limit Exceeded\n",
    "\n",
    "\n",
    "```python\n",
    "def get_slice_windows(arr, size: int):\n",
    "    slices = [arr[:size]]\n",
    "    end = size\n",
    "    while True:\n",
    "        if end >= len(arr):\n",
    "            return slices\n",
    "        else:\n",
    "            end += 1\n",
    "            sub_array = arr[end-size:end]\n",
    "            sub_array.sort()\n",
    "            slices.append(sub_array)\n",
    "\n",
    "def check(arr: List[int], size: int, t: int) -> bool:\n",
    "    if len(arr) <= 1:\n",
    "        return False\n",
    "    \n",
    "    slices = [arr[:size]]\n",
    "    end = size-1\n",
    "    \n",
    "    if end >= len(arr):\n",
    "        sub_array = slices[-1]\n",
    "        sub_array.sort()\n",
    "        sub_sub_arrays = get_slice_windows(sub_array, 2)\n",
    "        for array in sub_sub_arrays:\n",
    "            if (abs(array[0] - array[1]) <= t):\n",
    "                return True\n",
    "    else:\n",
    "        while True:\n",
    "            if end >= len(arr):\n",
    "                return False\n",
    "            else:\n",
    "                end += 1\n",
    "                sub_array = arr[end-size:end]\n",
    "                #print(sub_array)\n",
    "                sub_array.sort()\n",
    "                sub_sub_arrays = get_slice_windows(sub_array, 2)\n",
    "                for array in sub_sub_arrays:\n",
    "                    if (abs(array[0] - array[1]) <= t):\n",
    "                        return True\n",
    "    return False\n",
    "    \n",
    "class Solution:\n",
    "    def containsNearbyAlmostDuplicate(self, nums: List[int], k: int, t: int) -> bool:\n",
    "        #7:26\n",
    "        if k == 0:\n",
    "            return False\n",
    "        return check(nums, k+1, t)\n",
    "        #7:41\n",
    "        #debug until 8:05\n",
    "```"
   ]
  }
 ],
 "metadata": {
  "kernelspec": {
   "display_name": "Python 3",
   "language": "python",
   "name": "python3"
  },
  "language_info": {
   "codemirror_mode": {
    "name": "ipython",
    "version": 3
   },
   "file_extension": ".py",
   "mimetype": "text/x-python",
   "name": "python",
   "nbconvert_exporter": "python",
   "pygments_lexer": "ipython3",
   "version": "3.9.5"
  }
 },
 "nbformat": 4,
 "nbformat_minor": 5
}
