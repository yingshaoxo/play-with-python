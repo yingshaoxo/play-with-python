{
 "cells": [
  {
   "cell_type": "markdown",
   "metadata": {},
   "source": [
    "https://leetcode.com/problems/construct-the-rectangle\n",
    "\n",
    "\n",
    "Runtime: 28 ms, faster than 90.79% of Python3 online submissions for Construct the Rectangle.\n",
    "Memory Usage: 14.3 MB, less than 40.12% of Python3 online submissions for Construct the Rectangle.\n",
    "\n",
    "\n",
    "\n",
    "```python\n",
    "import math\n",
    "\n",
    "class Solution:\n",
    "    def constructRectangle(self, area: int) -> List[int]:\n",
    "        center = math.sqrt(area)\n",
    "        if (center.is_integer()):\n",
    "            center = int(center)\n",
    "            return [center, center]\n",
    "        else:\n",
    "            center = int(center)\n",
    "            target = area / center\n",
    "            while (not target.is_integer()) and (center >= 1):\n",
    "                center -= 1\n",
    "                target = area / center\n",
    "            return [int(target), int(center)]\n",
    "```\n",
    "\n",
    "\n",
    "Spent half hour"
   ]
  },
  {
   "cell_type": "code",
   "execution_count": null,
   "metadata": {},
   "outputs": [],
   "source": []
  }
 ],
 "metadata": {
  "kernelspec": {
   "display_name": "Python 3",
   "language": "python",
   "name": "python3"
  },
  "language_info": {
   "codemirror_mode": {
    "name": "ipython",
    "version": 3
   },
   "file_extension": ".py",
   "mimetype": "text/x-python",
   "name": "python",
   "nbconvert_exporter": "python",
   "pygments_lexer": "ipython3",
   "version": "3.9.0"
  }
 },
 "nbformat": 4,
 "nbformat_minor": 4
}
