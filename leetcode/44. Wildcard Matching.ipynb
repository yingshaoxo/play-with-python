{
 "cells": [
  {
   "cell_type": "markdown",
   "id": "b9844076-5c57-46cc-8b35-86480bcdd468",
   "metadata": {},
   "source": [
    "https://leetcode.com/problems/wildcard-matching/\n",
    "\n",
    "\n",
    "Time Limit Exceeded\n",
    "\n",
    "\n",
    "```python\n",
    "import re\n",
    "\n",
    "class Solution:\n",
    "    def isMatch(self, s: str, p: str) -> bool:\n",
    "        #12:57\n",
    "        newPattern = p.replace(\"*\", \".*\").replace(\"?\", \".{1,1}\")\n",
    "        result = re.fullmatch(newPattern, s)\n",
    "        return result != None\n",
    "        #1:01\n",
    "        #debug until 1:16\n",
    "```"
   ]
  },
  {
   "cell_type": "code",
   "execution_count": null,
   "id": "3e309e16-21c9-4268-8ef1-2ee084f1af8d",
   "metadata": {},
   "outputs": [],
   "source": []
  }
 ],
 "metadata": {
  "kernelspec": {
   "display_name": "Python 3 (ipykernel)",
   "language": "python",
   "name": "python3"
  },
  "language_info": {
   "codemirror_mode": {
    "name": "ipython",
    "version": 3
   },
   "file_extension": ".py",
   "mimetype": "text/x-python",
   "name": "python",
   "nbconvert_exporter": "python",
   "pygments_lexer": "ipython3",
   "version": "3.9.7"
  }
 },
 "nbformat": 4,
 "nbformat_minor": 5
}
