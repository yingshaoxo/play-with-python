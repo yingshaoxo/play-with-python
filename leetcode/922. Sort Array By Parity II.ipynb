{
 "cells": [
  {
   "cell_type": "markdown",
   "metadata": {},
   "source": [
    "https://leetcode.com/problems/sort-array-by-parity-ii\n",
    "\n",
    "\n",
    "Runtime: 208 ms, faster than 65.40% of Python3 online submissions for Sort Array By Parity II.\n",
    "Memory Usage: 16.8 MB, less than 25.04% of Python3 online submissions for Sort Array By Parity II.\n",
    "\n",
    "\n",
    "\n",
    "```python\n",
    "class Solution:\n",
    "    def sortArrayByParityII(self, A: List[int]) -> List[int]:\n",
    "        oddList = []\n",
    "        evenList = []\n",
    "        oddI = 0\n",
    "        evenI = 0\n",
    "        r = []\n",
    "        for v in A:\n",
    "            if v%2 == 0:\n",
    "                #even\n",
    "                evenList.append(v)\n",
    "            else:\n",
    "                oddList.append(v)\n",
    "        for i,_ in enumerate(A):\n",
    "            if i%2 == 0:\n",
    "                #even\n",
    "                r.append(evenList[evenI])\n",
    "                evenI += 1\n",
    "            else:\n",
    "                r.append(oddList[oddI])\n",
    "                oddI += 1\n",
    "        return r\n",
    "```"
   ]
  },
  {
   "cell_type": "code",
   "execution_count": null,
   "metadata": {},
   "outputs": [],
   "source": []
  }
 ],
 "metadata": {
  "kernelspec": {
   "display_name": "Python 3",
   "language": "python",
   "name": "python3"
  },
  "language_info": {
   "codemirror_mode": {
    "name": "ipython",
    "version": 3
   },
   "file_extension": ".py",
   "mimetype": "text/x-python",
   "name": "python",
   "nbconvert_exporter": "python",
   "pygments_lexer": "ipython3",
   "version": "3.9.0"
  }
 },
 "nbformat": 4,
 "nbformat_minor": 4
}
