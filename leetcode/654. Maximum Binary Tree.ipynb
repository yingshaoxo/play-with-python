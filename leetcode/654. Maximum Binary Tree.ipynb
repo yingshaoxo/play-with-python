{
 "cells": [
  {
   "cell_type": "markdown",
   "metadata": {},
   "source": [
    "https://leetcode.com/problems/maximum-binary-tree\n",
    "\n",
    "\n",
    "\n",
    "Runtime: 284 ms, faster than 7.38% of Python3 online submissions for Maximum Binary Tree.\n",
    "Memory Usage: 15 MB, less than 24.28% of Python3 online submissions for Maximum Binary Tree.\n",
    "\n",
    "\n",
    "\n",
    "```python\n",
    "class Solution:\n",
    "    def constructMaximumBinaryTree(self, nums: List[int]) -> TreeNode:\n",
    "        root = TreeNode(val=0, left=None, right=None)\n",
    "        self.go(nums, root)\n",
    "        return root\n",
    "    \n",
    "    def go(self, l, root):\n",
    "        centerI = 0\n",
    "        centerI = l.index(max(l))\n",
    "        root.val = l[centerI]\n",
    "        left = l[:centerI]\n",
    "        right = l[centerI+1:]\n",
    "        print(root.val, left, right)\n",
    "        if len(left) == 0:\n",
    "            root.left = None\n",
    "            if len(right) == 0:\n",
    "                return\n",
    "        else:\n",
    "            newLeft = TreeNode()\n",
    "            root.left = newLeft\n",
    "            self.go(left, newLeft)\n",
    "        if len(right) == 0:\n",
    "            root.right = None\n",
    "            if len(left)==0:\n",
    "                return\n",
    "        else:\n",
    "            newRight = TreeNode()\n",
    "            root.right = newRight\n",
    "            self.go(right, newRight)\n",
    "```\n",
    "\n",
    "Spent 4 hours"
   ]
  },
  {
   "cell_type": "code",
   "execution_count": null,
   "metadata": {},
   "outputs": [],
   "source": []
  }
 ],
 "metadata": {
  "kernelspec": {
   "display_name": "Python 3",
   "language": "python",
   "name": "python3"
  },
  "language_info": {
   "codemirror_mode": {
    "name": "ipython",
    "version": 3
   },
   "file_extension": ".py",
   "mimetype": "text/x-python",
   "name": "python",
   "nbconvert_exporter": "python",
   "pygments_lexer": "ipython3",
   "version": "3.9.0"
  }
 },
 "nbformat": 4,
 "nbformat_minor": 4
}
