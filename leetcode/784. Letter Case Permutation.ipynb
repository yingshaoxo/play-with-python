{
 "cells": [
  {
   "cell_type": "markdown",
   "id": "7906c0a2-d29f-49c0-897b-13f8bc6bacff",
   "metadata": {},
   "source": [
    "https://leetcode.com/problems/letter-case-permutation/\n",
    "\n",
    "\n",
    "Runtime: 48 ms, faster than 92.99% of Python3 online submissions for Letter Case Permutation.\n",
    "Memory Usage: 14.7 MB, less than 77.03% of Python3 online submissions for Letter Case Permutation.\n",
    "\n",
    "\n",
    "```python\n",
    "from itertools import combinations\n",
    "import string\n",
    "\n",
    "class Solution:\n",
    "    def letterCasePermutation(self, S: str) -> List[str]:\n",
    "        #6:41\n",
    "        index_list = []\n",
    "        s = S.lower()\n",
    "        for i, char in enumerate(s):\n",
    "            if char in string.ascii_lowercase:\n",
    "                index_list.append(i)\n",
    "        result = []\n",
    "        for i in range(len(index_list)+1):\n",
    "            for possibility in combinations(index_list, i):\n",
    "                raw = list(s)\n",
    "                for j in possibility:\n",
    "                    raw[j] = raw[j].upper()  \n",
    "                raw = \"\".join(raw)\n",
    "                result.append(raw)\n",
    "        return result\n",
    "        #6:51\n",
    "```\n"
   ]
  },
  {
   "cell_type": "code",
   "execution_count": 3,
   "id": "38cd1bc5-69b8-48c2-b96a-45851bafa8fe",
   "metadata": {},
   "outputs": [],
   "source": [
    "from itertools import combinations\n",
    "\n",
    "l = [1,2,3,4,5]"
   ]
  },
  {
   "cell_type": "code",
   "execution_count": 22,
   "id": "d1200346-c74c-4d83-836a-d680fd39e0de",
   "metadata": {},
   "outputs": [
    {
     "data": {
      "text/plain": [
       "[(1, 2, 3),\n",
       " (1, 2, 4),\n",
       " (1, 2, 5),\n",
       " (1, 3, 4),\n",
       " (1, 3, 5),\n",
       " (1, 4, 5),\n",
       " (2, 3, 4),\n",
       " (2, 3, 5),\n",
       " (2, 4, 5),\n",
       " (3, 4, 5)]"
      ]
     },
     "execution_count": 22,
     "metadata": {},
     "output_type": "execute_result"
    }
   ],
   "source": [
    "list(combinations(l, 3))"
   ]
  },
  {
   "cell_type": "code",
   "execution_count": 56,
   "id": "8bf0b8f5-51da-48f6-94f8-34f02d06822b",
   "metadata": {},
   "outputs": [
    {
     "data": {
      "text/plain": [
       "[[3, 3, 4]]"
      ]
     },
     "execution_count": 56,
     "metadata": {},
     "output_type": "execute_result"
    }
   ],
   "source": [
    "def my_combinations(l, length_limit):\n",
    "    result = []\n",
    "    \n",
    "    def loop(current_list, index):\n",
    "        if index < len(l)-1:\n",
    "            current_list.append([l[index]])\n",
    "            for i in range(len(current_list)):\n",
    "                current_list[i].append(l[index])\n",
    "            loop(current_list.copy(), index+1)\n",
    "        else:\n",
    "            for e in current_list:\n",
    "                if len(e) == length_limit:\n",
    "                    result.append(e)    \n",
    "                \n",
    "    loop([], 0)\n",
    "    return result\n",
    "        \n",
    "my_combinations(l, 3)"
   ]
  },
  {
   "cell_type": "code",
   "execution_count": null,
   "id": "4f459cdf-4da8-44e9-8893-ddaf1c80b07a",
   "metadata": {},
   "outputs": [],
   "source": []
  }
 ],
 "metadata": {
  "kernelspec": {
   "display_name": "Python 3",
   "language": "python",
   "name": "python3"
  },
  "language_info": {
   "codemirror_mode": {
    "name": "ipython",
    "version": 3
   },
   "file_extension": ".py",
   "mimetype": "text/x-python",
   "name": "python",
   "nbconvert_exporter": "python",
   "pygments_lexer": "ipython3",
   "version": "3.8.5"
  }
 },
 "nbformat": 4,
 "nbformat_minor": 5
}
