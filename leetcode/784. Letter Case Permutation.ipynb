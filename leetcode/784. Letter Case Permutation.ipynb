{
 "cells": [
  {
   "cell_type": "markdown",
   "id": "7906c0a2-d29f-49c0-897b-13f8bc6bacff",
   "metadata": {},
   "source": [
    "https://leetcode.com/problems/letter-case-permutation/\n",
    "\n",
    "\n",
    "Runtime: 48 ms, faster than 92.99% of Python3 online submissions for Letter Case Permutation.\n",
    "Memory Usage: 14.7 MB, less than 77.03% of Python3 online submissions for Letter Case Permutation.\n",
    "\n",
    "\n",
    "```python\n",
    "from itertools import combinations\n",
    "import string\n",
    "\n",
    "class Solution:\n",
    "    def letterCasePermutation(self, S: str) -> List[str]:\n",
    "        #6:41\n",
    "        index_list = []\n",
    "        s = S.lower()\n",
    "        for i, char in enumerate(s):\n",
    "            if char in string.ascii_lowercase:\n",
    "                index_list.append(i)\n",
    "        result = []\n",
    "        for i in range(len(index_list)+1):\n",
    "            for possibility in combinations(index_list, i):\n",
    "                raw = list(s)\n",
    "                for j in possibility:\n",
    "                    raw[j] = raw[j].upper()  \n",
    "                raw = \"\".join(raw)\n",
    "                result.append(raw)\n",
    "        return result\n",
    "        #6:51\n",
    "```\n"
   ]
  },
  {
   "cell_type": "code",
   "execution_count": null,
   "id": "38cd1bc5-69b8-48c2-b96a-45851bafa8fe",
   "metadata": {},
   "outputs": [],
   "source": []
  }
 ],
 "metadata": {
  "kernelspec": {
   "display_name": "Python 3",
   "language": "python",
   "name": "python3"
  },
  "language_info": {
   "codemirror_mode": {
    "name": "ipython",
    "version": 3
   },
   "file_extension": ".py",
   "mimetype": "text/x-python",
   "name": "python",
   "nbconvert_exporter": "python",
   "pygments_lexer": "ipython3",
   "version": "3.8.5"
  }
 },
 "nbformat": 4,
 "nbformat_minor": 5
}
