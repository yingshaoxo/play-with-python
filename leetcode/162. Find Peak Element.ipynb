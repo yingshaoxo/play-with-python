{
 "cells": [
  {
   "cell_type": "markdown",
   "id": "d18604a8-ef7b-4463-a866-f89fadc63a25",
   "metadata": {},
   "source": [
    "https://leetcode.com/problems/find-peak-element/\n",
    "\n",
    "\n",
    "Runtime: 40 ms, faster than 92.42% of Python3 online submissions for Find Peak Element.\n",
    "Memory Usage: 14.1 MB, less than 99.81% of Python3 online submissions for Find Peak Element.\n",
    "\n",
    "\n",
    "```python\n",
    "import math\n",
    "\n",
    "class Solution:\n",
    "    def findPeakElement(self, nums: List[int]) -> int:\n",
    "        #6:58\n",
    "        max_value = -math.inf\n",
    "        possible_index = 0\n",
    "        for i, n in enumerate(nums):\n",
    "            if (n>max_value):\n",
    "                possible_index = i\n",
    "                max_value = n\n",
    "            if i != 0 and i < len(nums)-1:\n",
    "                if nums[i-1] < n > nums[i+1]:\n",
    "                    return i\n",
    "        return possible_index\n",
    "        #7:06\n",
    "```"
   ]
  },
  {
   "cell_type": "code",
   "execution_count": null,
   "id": "a550a63b-aa06-4e5a-b0cd-e737c9967109",
   "metadata": {},
   "outputs": [],
   "source": []
  }
 ],
 "metadata": {
  "kernelspec": {
   "display_name": "Python 3",
   "language": "python",
   "name": "python3"
  },
  "language_info": {
   "codemirror_mode": {
    "name": "ipython",
    "version": 3
   },
   "file_extension": ".py",
   "mimetype": "text/x-python",
   "name": "python",
   "nbconvert_exporter": "python",
   "pygments_lexer": "ipython3",
   "version": "3.8.6"
  }
 },
 "nbformat": 4,
 "nbformat_minor": 5
}
