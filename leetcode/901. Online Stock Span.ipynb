{
 "cells": [
  {
   "cell_type": "markdown",
   "metadata": {},
   "source": [
    "https://leetcode.com/problems/online-stock-span\n",
    "\n",
    "\n",
    "Time Limit Exceeded\n",
    "\n",
    "\n",
    "```python\n",
    "class StockSpanner:\n",
    "\n",
    "    def __init__(self):\n",
    "        self.q = []\n",
    "        self.length = 0\n",
    "\n",
    "    def next(self, price: int) -> int:\n",
    "        self.q.append(price)\n",
    "        self.length += 1\n",
    "        \n",
    "        result = 0\n",
    "        index = self.length\n",
    "        while index > 0:\n",
    "            index -= 1\n",
    "            previousePrice = self.q[index]\n",
    "            #print(previousePrice)\n",
    "            if previousePrice <= price:\n",
    "                result += 1\n",
    "            else:\n",
    "                break\n",
    "        #print(\"\")\n",
    "                \n",
    "        return result\n",
    "```"
   ]
  },
  {
   "cell_type": "code",
   "execution_count": null,
   "metadata": {},
   "outputs": [],
   "source": []
  }
 ],
 "metadata": {
  "kernelspec": {
   "display_name": "Python 3",
   "language": "python",
   "name": "python3"
  },
  "language_info": {
   "codemirror_mode": {
    "name": "ipython",
    "version": 3
   },
   "file_extension": ".py",
   "mimetype": "text/x-python",
   "name": "python",
   "nbconvert_exporter": "python",
   "pygments_lexer": "ipython3",
   "version": "3.9.0"
  }
 },
 "nbformat": 4,
 "nbformat_minor": 4
}
