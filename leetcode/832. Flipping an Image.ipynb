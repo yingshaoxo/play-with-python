{
 "cells": [
  {
   "cell_type": "markdown",
   "id": "streaming-irish",
   "metadata": {},
   "source": [
    "https://leetcode.com/problems/flipping-an-image\n",
    "\n",
    "\n",
    "Runtime: 48 ms, faster than 79.27% of Python3 online submissions for Flipping an Image.\n",
    "Memory Usage: 14.4 MB, less than 24.35% of Python3 online submissions for Flipping an Image.\n",
    "\n",
    "\n",
    "```python\n",
    "class Solution:\n",
    "    def flipAndInvertImage(self, image: List[List[int]]) -> List[List[int]]:\n",
    "        #6:35\n",
    "        new_image = []\n",
    "        for row in image:\n",
    "            row.reverse()\n",
    "            row = [1 if e==0 else 0 for e in row]\n",
    "            new_image.append(row)\n",
    "        return new_image\n",
    "        #6:36\n",
    "```"
   ]
  },
  {
   "cell_type": "code",
   "execution_count": null,
   "id": "affecting-maintenance",
   "metadata": {},
   "outputs": [],
   "source": []
  }
 ],
 "metadata": {
  "kernelspec": {
   "display_name": "Python 3",
   "language": "python",
   "name": "python3"
  },
  "language_info": {
   "codemirror_mode": {
    "name": "ipython",
    "version": 3
   },
   "file_extension": ".py",
   "mimetype": "text/x-python",
   "name": "python",
   "nbconvert_exporter": "python",
   "pygments_lexer": "ipython3",
   "version": "3.8.5"
  }
 },
 "nbformat": 4,
 "nbformat_minor": 5
}
