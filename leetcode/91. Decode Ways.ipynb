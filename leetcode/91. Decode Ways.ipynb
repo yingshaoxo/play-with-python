{
 "cells": [
  {
   "cell_type": "markdown",
   "id": "c190d374-2fd6-4492-84c1-1d76bb136296",
   "metadata": {},
   "source": [
    "https://leetcode.com/problems/decode-ways/\n",
    "\n",
    "\n",
    "Time Limit Exceeded\n",
    "\n",
    "\n",
    "```python\n",
    "class Solution:\n",
    "    def __init__(self):\n",
    "        #self.dict = {}\n",
    "        #for i, char in enumerate(string.ascii_lowercase):\n",
    "        #    self.dict[i] = char\n",
    "        self.numberList = [str(i) for i in range(1, 27)]\n",
    "        self.counting = 0\n",
    "    \n",
    "    def myDecodeStep(self, numberString):\n",
    "        if (len(numberString) == 0):\n",
    "            self.counting += 1\n",
    "            return\n",
    "        \n",
    "        oneChar = numberString[:1]\n",
    "        if oneChar in self.numberList:\n",
    "            self.myDecodeStep(numberString[1:])\n",
    "        \n",
    "        twoChar = numberString[:2]\n",
    "        if len(twoChar) == 2:\n",
    "            if twoChar in self.numberList:\n",
    "                self.myDecodeStep(numberString[2:])\n",
    "    \n",
    "    def numDecodings(self, s: str) -> int:\n",
    "        #2022.1.5 8:28\n",
    "        self.counting = 0\n",
    "        \n",
    "        self.myDecodeStep(s)\n",
    "        \n",
    "        return self.counting\n",
    "        #2022.1.5 8:35\n",
    "        #debug until 8:43\n",
    "```"
   ]
  },
  {
   "cell_type": "code",
   "execution_count": null,
   "id": "790e0238-e308-47c6-8488-391b922c74d3",
   "metadata": {},
   "outputs": [],
   "source": []
  }
 ],
 "metadata": {
  "kernelspec": {
   "display_name": "Python 3 (ipykernel)",
   "language": "python",
   "name": "python3"
  },
  "language_info": {
   "codemirror_mode": {
    "name": "ipython",
    "version": 3
   },
   "file_extension": ".py",
   "mimetype": "text/x-python",
   "name": "python",
   "nbconvert_exporter": "python",
   "pygments_lexer": "ipython3",
   "version": "3.9.7"
  }
 },
 "nbformat": 4,
 "nbformat_minor": 5
}
