{
 "cells": [
  {
   "cell_type": "markdown",
   "id": "9a1836f3-23c5-49f5-b4b5-e9cda29f9caf",
   "metadata": {},
   "source": [
    "https://leetcode.com/problems/find-minimum-in-rotated-sorted-array\n",
    "\n",
    "\n",
    "Runtime: 44 ms, faster than 37.05% of Python3 online submissions for Find Minimum in Rotated Sorted Array.\n",
    "Memory Usage: 14.6 MB, less than 25.13% of Python3 online submissions for Find Minimum in Rotated Sorted Array.\n",
    "\n",
    "\n",
    "```python\n",
    "class Solution:\n",
    "    def findMin(self, nums: List[int]) -> int:\n",
    "        #7:08\n",
    "        return min(nums)\n",
    "        #7:09\n",
    "```"
   ]
  },
  {
   "cell_type": "code",
   "execution_count": null,
   "id": "58e6dfca-1218-48fc-a6be-167a92397ae1",
   "metadata": {},
   "outputs": [],
   "source": []
  }
 ],
 "metadata": {
  "kernelspec": {
   "display_name": "Python 3",
   "language": "python",
   "name": "python3"
  },
  "language_info": {
   "codemirror_mode": {
    "name": "ipython",
    "version": 3
   },
   "file_extension": ".py",
   "mimetype": "text/x-python",
   "name": "python",
   "nbconvert_exporter": "python",
   "pygments_lexer": "ipython3",
   "version": "3.8.6"
  }
 },
 "nbformat": 4,
 "nbformat_minor": 5
}
