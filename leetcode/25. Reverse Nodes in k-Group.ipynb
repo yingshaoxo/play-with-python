{
 "cells": [
  {
   "cell_type": "markdown",
   "id": "e540c605-ac86-4bec-9065-e1afac5274e3",
   "metadata": {},
   "source": [
    "https://leetcode.com/problems/reverse-nodes-in-k-group\n",
    "\n",
    "\n",
    "Runtime: 72 ms, faster than 27.06% of Python3 online submissions for Reverse Nodes in k-Group.\n",
    "Memory Usage: 15.3 MB, less than 14.15% of Python3 online submissions for Reverse Nodes in k-Group.\n",
    "\n",
    "\n",
    "```python\n",
    "# Definition for singly-linked list.\n",
    "# class ListNode:\n",
    "#     def __init__(self, val=0, next=None):\n",
    "#         self.val = val\n",
    "#         self.next = next\n",
    "\n",
    "class Solution:\n",
    "    def reverseKGroup(self, head: Optional[ListNode], k: int) -> Optional[ListNode]:\n",
    "        #2022.1.17 9:05\n",
    "        rawList = []\n",
    "        node = head\n",
    "        while node:\n",
    "            rawList.append(node)\n",
    "            node = node.next\n",
    "        \n",
    "        newOrder = []\n",
    "        tempList = []\n",
    "        for i,v in enumerate(rawList):\n",
    "            if i % k == 0 and i != 0:\n",
    "                tempList.reverse()\n",
    "                newOrder += tempList\n",
    "                tempList = []\n",
    "                tempList.append((i,v))\n",
    "            else:\n",
    "                tempList.append((i,v))\n",
    "        if len(tempList):\n",
    "            if len(rawList) % k == 0:\n",
    "                tempList.reverse()\n",
    "            newOrder += tempList\n",
    "        \n",
    "        _, newHead = newOrder[0]\n",
    "        _, node = newOrder[0]\n",
    "        for v in newOrder[1:]:\n",
    "            node.next = v[1]\n",
    "            node = v[1]\n",
    "        newOrder[-1][1].next = None\n",
    "            \n",
    "        return newHead\n",
    "        #2022.1.17 9:18\n",
    "        #debug until 9:31\n",
    "```"
   ]
  },
  {
   "cell_type": "code",
   "execution_count": null,
   "id": "27864c76-bda1-46a4-afec-fd434970588e",
   "metadata": {},
   "outputs": [],
   "source": []
  }
 ],
 "metadata": {
  "kernelspec": {
   "display_name": "Python 3 (ipykernel)",
   "language": "python",
   "name": "python3"
  },
  "language_info": {
   "codemirror_mode": {
    "name": "ipython",
    "version": 3
   },
   "file_extension": ".py",
   "mimetype": "text/x-python",
   "name": "python",
   "nbconvert_exporter": "python",
   "pygments_lexer": "ipython3",
   "version": "3.9.7"
  }
 },
 "nbformat": 4,
 "nbformat_minor": 5
}
