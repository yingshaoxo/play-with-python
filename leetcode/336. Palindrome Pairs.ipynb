{
 "cells": [
  {
   "cell_type": "markdown",
   "id": "5b66c0f5-d77e-4a0a-bf75-70b0d82031ee",
   "metadata": {},
   "source": [
    "https://leetcode.com/problems/palindrome-pairs"
   ]
  },
  {
   "cell_type": "markdown",
   "id": "e3469494-5832-4415-aa3f-db31b7da4281",
   "metadata": {},
   "source": [
    "# 2023/1/31"
   ]
  },
  {
   "cell_type": "markdown",
   "id": "df7c92ab-8e74-4c2a-b2c7-b2d89ddc4079",
   "metadata": {},
   "source": [
    "Time out\n",
    "\n",
    "```python\n",
    "from itertools import permutations\n",
    "\n",
    "class Solution:\n",
    "    def palindromePairs(self, words: List[str]) -> List[List[int]]:\n",
    "        # 2023/01/31 05:36\n",
    "        result = []\n",
    "        for pair in permutations([[index, word] for index, word in enumerate(words)], 2):\n",
    "            a, b = pair\n",
    "            a_index = a[0]\n",
    "            b_index = b[0]\n",
    "            a_string = a[1]\n",
    "            b_string = b[1]\n",
    "            c_string = a_string + b_string\n",
    "            if (c_string == c_string[::-1]):\n",
    "                result.append([a_index, b_index])\n",
    "        return result\n",
    "        # 2023/01/31 05:42\n",
    "```"
   ]
  },
  {
   "cell_type": "code",
   "execution_count": null,
   "id": "496ef944-643d-4f3c-876b-2e95229e8c36",
   "metadata": {},
   "outputs": [],
   "source": []
  }
 ],
 "metadata": {
  "kernelspec": {
   "display_name": "Python 3 (ipykernel)",
   "language": "python",
   "name": "python3"
  },
  "language_info": {
   "codemirror_mode": {
    "name": "ipython",
    "version": 3
   },
   "file_extension": ".py",
   "mimetype": "text/x-python",
   "name": "python",
   "nbconvert_exporter": "python",
   "pygments_lexer": "ipython3",
   "version": "3.10.9"
  }
 },
 "nbformat": 4,
 "nbformat_minor": 5
}
