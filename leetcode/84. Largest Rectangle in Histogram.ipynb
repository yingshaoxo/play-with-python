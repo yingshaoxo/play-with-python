{
 "cells": [
  {
   "cell_type": "markdown",
   "id": "96ee741d-0eb6-45b0-b07d-5424f7713b8b",
   "metadata": {},
   "source": [
    "https://leetcode.com/problems/largest-rectangle-in-histogram/\n",
    "\n",
    "\n",
    "Time Limit Exceeded\n",
    "\n",
    "\n",
    "```python\n",
    "class Solution:\n",
    "    def largestRectangleArea(self, heights: List[int]) -> int:\n",
    "        #8:32 to 9:27, debug until 10:15, drop the first version\n",
    "        #10:23 to 10:40, debug until 11:30, drop the second version\n",
    "        #11:35 to 11:47, 71/96, drop the third version\n",
    "        #3:17 to 3:27, fuck it, I'll do it with brute force\n",
    "        length = len(heights)\n",
    "        if length == 1:\n",
    "            return heights[0]\n",
    "        \n",
    "        currentMax = max(min(heights) * length, max(heights))\n",
    "        \n",
    "        for i, v in enumerate(heights):\n",
    "            for j, w in enumerate(heights[i:]):\n",
    "                onePossibility = heights[i:i+j+1]\n",
    "                if 0 in onePossibility:\n",
    "                    pass\n",
    "                else:\n",
    "                    value = min(onePossibility) * len(onePossibility)\n",
    "                    if value > currentMax:\n",
    "                        currentMax = value\n",
    "                        \n",
    "        return currentMax\n",
    "```"
   ]
  },
  {
   "cell_type": "code",
   "execution_count": null,
   "id": "66a89883-9699-4ce5-9c2f-d850de96d399",
   "metadata": {},
   "outputs": [],
   "source": []
  }
 ],
 "metadata": {
  "kernelspec": {
   "display_name": "Python 3 (ipykernel)",
   "language": "python",
   "name": "python3"
  },
  "language_info": {
   "codemirror_mode": {
    "name": "ipython",
    "version": 3
   },
   "file_extension": ".py",
   "mimetype": "text/x-python",
   "name": "python",
   "nbconvert_exporter": "python",
   "pygments_lexer": "ipython3",
   "version": "3.9.7"
  }
 },
 "nbformat": 4,
 "nbformat_minor": 5
}
