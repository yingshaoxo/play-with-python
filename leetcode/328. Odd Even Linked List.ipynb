{
 "cells": [
  {
   "cell_type": "markdown",
   "id": "special-graham",
   "metadata": {},
   "source": [
    "https://leetcode.com/problems/odd-even-linked-list\n",
    "\n",
    "\n",
    "Runtime: 40 ms, faster than 85.01% of Python3 online submissions for Odd Even Linked List.\n",
    "Memory Usage: 17.5 MB, less than 5.03% of Python3 online submissions for Odd Even Linked List.\n",
    "\n",
    "\n",
    "```python\n",
    "class Solution:\n",
    "    def oddEvenList(self, head: ListNode) -> ListNode:\n",
    "        #7:14\n",
    "        node = head\n",
    "        if node == None:\n",
    "            return None\n",
    "        if node.next == None:\n",
    "            return node\n",
    "        i = 0\n",
    "        oddHead = ListNode()\n",
    "        oddNode = oddHead\n",
    "        evenHead = ListNode()\n",
    "        evenNode = evenHead\n",
    "        while node:\n",
    "            i += 1 \n",
    "            if i % 2 == 1:\n",
    "                oddNode.val = node.val\n",
    "                if node.next and node.next.next:\n",
    "                    oddNode.next = ListNode()\n",
    "                    oddNode = oddNode.next\n",
    "            else:\n",
    "                evenNode.val = node.val\n",
    "                if node.next and node.next.next:\n",
    "                    evenNode.next = ListNode()\n",
    "                    evenNode = evenNode.next\n",
    "            node = node.next\n",
    "        oddNode.next = evenHead\n",
    "        return oddHead\n",
    "        #7:32\n",
    "```"
   ]
  }
 ],
 "metadata": {
  "kernelspec": {
   "display_name": "Python 3",
   "language": "python",
   "name": "python3"
  },
  "language_info": {
   "codemirror_mode": {
    "name": "ipython",
    "version": 3
   },
   "file_extension": ".py",
   "mimetype": "text/x-python",
   "name": "python",
   "nbconvert_exporter": "python",
   "pygments_lexer": "ipython3",
   "version": "3.8.5"
  }
 },
 "nbformat": 4,
 "nbformat_minor": 5
}
