{
 "cells": [
  {
   "cell_type": "markdown",
   "id": "partial-college",
   "metadata": {},
   "source": [
    "https://leetcode.com/problems/lemonade-change\n",
    "\n",
    "\n",
    "Runtime: 136 ms, faster than 79.80% of Python3 online submissions for Lemonade Change.\n",
    "Memory Usage: 14.6 MB, less than 59.15% of Python3 online submissions for Lemonade Change.\n",
    "\n",
    "\n",
    "```python\n",
    "class Solution:\n",
    "    def lemonadeChange(self, bills: List[int]) -> bool:\n",
    "        #7:12\n",
    "        change5_i_have = 0\n",
    "        change10_i_have = 0\n",
    "        for index, bill in enumerate(bills):\n",
    "            if bill == 5:\n",
    "                change5_i_have += 1\n",
    "            else:\n",
    "                money_we_return = (bill // 5) - 1\n",
    "                if money_we_return == 3:\n",
    "                    if change10_i_have >= 1 and change5_i_have >= 1:\n",
    "                        change10_i_have -= 1\n",
    "                        change5_i_have -= 1\n",
    "                        continue\n",
    "                    if change5_i_have >= 3:\n",
    "                        change5_i_have -= 3\n",
    "                        continue\n",
    "                    return False\n",
    "                elif money_we_return == 1:\n",
    "                    if change5_i_have >= 1:\n",
    "                        change5_i_have -= 1\n",
    "                        change10_i_have += 1\n",
    "                        continue\n",
    "                    else:\n",
    "                        return False\n",
    "        return True\n",
    "        #8:06\n",
    "```"
   ]
  },
  {
   "cell_type": "code",
   "execution_count": null,
   "id": "treated-omaha",
   "metadata": {},
   "outputs": [],
   "source": []
  }
 ],
 "metadata": {
  "kernelspec": {
   "display_name": "Python 3",
   "language": "python",
   "name": "python3"
  },
  "language_info": {
   "codemirror_mode": {
    "name": "ipython",
    "version": 3
   },
   "file_extension": ".py",
   "mimetype": "text/x-python",
   "name": "python",
   "nbconvert_exporter": "python",
   "pygments_lexer": "ipython3",
   "version": "3.8.5"
  }
 },
 "nbformat": 4,
 "nbformat_minor": 5
}
