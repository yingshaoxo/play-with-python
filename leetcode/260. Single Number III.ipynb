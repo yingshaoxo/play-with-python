{
 "cells": [
  {
   "cell_type": "markdown",
   "metadata": {},
   "source": [
    "https://leetcode.com/problems/single-number-iii/\n",
    "\n",
    "\n",
    "Runtime: 2732 ms, faster than 5.07% of Python3 online submissions for Single Number III.\n",
    "Memory Usage: 16.1 MB, less than 26.32% of Python3 online submissions for Single Number III.\n",
    "\n",
    "\n",
    "```python\n",
    "class Solution:\n",
    "    def singleNumber(self, nums: List[int]) -> List[int]:\n",
    "        r = []\n",
    "        for n in set(nums):\n",
    "            if nums.count(n) == 1:\n",
    "                r.append(n)\n",
    "        return r\n",
    "```\n",
    "\n",
    "\n",
    "Spent 20 seconds"
   ]
  },
  {
   "cell_type": "code",
   "execution_count": null,
   "metadata": {},
   "outputs": [],
   "source": []
  }
 ],
 "metadata": {
  "kernelspec": {
   "display_name": "Python 3",
   "language": "python",
   "name": "python3"
  },
  "language_info": {
   "codemirror_mode": {
    "name": "ipython",
    "version": 3
   },
   "file_extension": ".py",
   "mimetype": "text/x-python",
   "name": "python",
   "nbconvert_exporter": "python",
   "pygments_lexer": "ipython3",
   "version": "3.9.0"
  }
 },
 "nbformat": 4,
 "nbformat_minor": 4
}
