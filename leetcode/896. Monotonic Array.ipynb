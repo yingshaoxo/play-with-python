{
 "cells": [
  {
   "cell_type": "markdown",
   "id": "occupied-stylus",
   "metadata": {},
   "source": [
    "https://leetcode.com/problems/monotonic-array\n",
    "\n",
    "\n",
    "Runtime: 544 ms, faster than 16.21% of Python3 online submissions for Monotonic Array.\n",
    "Memory Usage: 20.6 MB, less than 32.21% of Python3 online submissions for Monotonic Array.\n",
    "\n",
    "\n",
    "```python\n",
    "class Solution:\n",
    "    def isMonotonic(self, A: List[int]) -> bool:\n",
    "        #7:19\n",
    "        if len(A) == 1:\n",
    "            return True\n",
    "        flag1 = True\n",
    "        flag2 = True \n",
    "        for i, v in enumerate(A):\n",
    "            if i+1 < len(A):\n",
    "                if A[i] <= A[i+1]:\n",
    "                    pass\n",
    "                else:\n",
    "                    flag1 = False\n",
    "                    \n",
    "                if A[i] >= A[i+1]:\n",
    "                    pass\n",
    "                else:\n",
    "                    flag2 = False\n",
    "        return flag1 or flag2\n",
    "        #7:24\n",
    "```"
   ]
  },
  {
   "cell_type": "code",
   "execution_count": null,
   "id": "single-aspect",
   "metadata": {},
   "outputs": [],
   "source": []
  }
 ],
 "metadata": {
  "kernelspec": {
   "display_name": "Python 3",
   "language": "python",
   "name": "python3"
  },
  "language_info": {
   "codemirror_mode": {
    "name": "ipython",
    "version": 3
   },
   "file_extension": ".py",
   "mimetype": "text/x-python",
   "name": "python",
   "nbconvert_exporter": "python",
   "pygments_lexer": "ipython3",
   "version": "3.8.5"
  }
 },
 "nbformat": 4,
 "nbformat_minor": 5
}
