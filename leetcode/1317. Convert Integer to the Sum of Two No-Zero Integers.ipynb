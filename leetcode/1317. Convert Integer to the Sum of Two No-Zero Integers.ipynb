{
 "cells": [
  {
   "cell_type": "markdown",
   "metadata": {},
   "source": [
    "https://leetcode.com/problems/convert-integer-to-the-sum-of-two-no-zero-integers\n",
    "\n",
    "\n",
    "\n",
    "Runtime: 32 ms, faster than 57.17% of Python3 online submissions for Convert Integer to the Sum of Two No-Zero Integers.\n",
    "Memory Usage: 14.1 MB, less than 82.76% of Python3 online submissions for Convert Integer to the Sum of Two No-Zero Integers.\n",
    "\n",
    "\n",
    "\n",
    "```python\n",
    "class Solution:\n",
    "    def getNoZeroIntegers(self, n: int) -> List[int]:\n",
    "        a = 1\n",
    "        b = n - a\n",
    "        while not ('0' not in str(a) and '0' not in str(b)):\n",
    "            a += 1;\n",
    "            b = n - a\n",
    "        return [a, b]\n",
    "```\n",
    "\n",
    "\n",
    "Spent 3 minutes\n",
    "\n",
    "2 shoot"
   ]
  },
  {
   "cell_type": "code",
   "execution_count": null,
   "metadata": {},
   "outputs": [],
   "source": []
  }
 ],
 "metadata": {
  "kernelspec": {
   "display_name": "Python 3",
   "language": "python",
   "name": "python3"
  },
  "language_info": {
   "codemirror_mode": {
    "name": "ipython",
    "version": 3
   },
   "file_extension": ".py",
   "mimetype": "text/x-python",
   "name": "python",
   "nbconvert_exporter": "python",
   "pygments_lexer": "ipython3",
   "version": "3.9.0"
  }
 },
 "nbformat": 4,
 "nbformat_minor": 4
}
