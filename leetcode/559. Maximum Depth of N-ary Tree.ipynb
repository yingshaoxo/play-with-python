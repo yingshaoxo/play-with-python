{
 "cells": [
  {
   "cell_type": "markdown",
   "metadata": {},
   "source": [
    "https://leetcode.com/problems/maximum-depth-of-n-ary-tree/\n",
    "\n",
    "\n",
    "Runtime: 40 ms, faster than 92.67% of Python3 online submissions for Maximum Depth of N-ary Tree.\n",
    "Memory Usage: 16.2 MB, less than 9.73% of Python3 online submissions for Maximum Depth of N-ary Tree.\n",
    "\n",
    "\n",
    "\n",
    "```python\n",
    "class Solution:\n",
    "    def maxDepth(self, root: 'Node') -> int:\n",
    "        #6:15\n",
    "        self.maxLevel = 0\n",
    "        self.travel(root, 1)\n",
    "        return self.maxLevel\n",
    "        #6:21\n",
    "        \n",
    "    def travel(self, node, level):\n",
    "        if node:\n",
    "            if level > self.maxLevel:\n",
    "                self.maxLevel = level\n",
    "            for child in node.children:\n",
    "                self.travel(child, level+1)\n",
    "```"
   ]
  },
  {
   "cell_type": "code",
   "execution_count": null,
   "metadata": {},
   "outputs": [],
   "source": []
  }
 ],
 "metadata": {
  "kernelspec": {
   "display_name": "Python 3",
   "language": "python",
   "name": "python3"
  },
  "language_info": {
   "codemirror_mode": {
    "name": "ipython",
    "version": 3
   },
   "file_extension": ".py",
   "mimetype": "text/x-python",
   "name": "python",
   "nbconvert_exporter": "python",
   "pygments_lexer": "ipython3",
   "version": "3.9.0"
  }
 },
 "nbformat": 4,
 "nbformat_minor": 4
}
