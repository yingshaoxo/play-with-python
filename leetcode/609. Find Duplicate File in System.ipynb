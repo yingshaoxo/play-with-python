{
 "cells": [
  {
   "cell_type": "markdown",
   "metadata": {},
   "source": [
    "https://leetcode.com/problems/find-duplicate-file-in-system\n",
    "\n",
    "\n",
    "Runtime: 120 ms, faster than 22.06% of Python3 online submissions for Find Duplicate File in System.\n",
    "Memory Usage: 23.9 MB, less than 68.15% of Python3 online submissions for Find Duplicate File in System.\n",
    "\n",
    "\n",
    "```python\n",
    "class Solution:\n",
    "    def findDuplicate(self, paths: List[str]) -> List[List[str]]:\n",
    "        d = dict()\n",
    "        for pathList in paths:\n",
    "            splits = pathList.split(\" \")\n",
    "            root = splits[0]\n",
    "            for file in splits[1:]:\n",
    "                splits2 = file.split(\"(\")\n",
    "                fileName = splits2[0]\n",
    "                fileContent = splits2[1][:-1]\n",
    "                path = root+\"/\"+fileName\n",
    "                if fileContent not in d.keys():\n",
    "                    d[fileContent] = [path]\n",
    "                else:\n",
    "                    d[fileContent].append(path)\n",
    "        r = []\n",
    "        for k,v in d.items():\n",
    "            if len(v)>1:\n",
    "                r.append(v)\n",
    "        return r\n",
    "```\n",
    "\n",
    "\n",
    "Spent 15 minutes."
   ]
  },
  {
   "cell_type": "code",
   "execution_count": null,
   "metadata": {},
   "outputs": [],
   "source": []
  }
 ],
 "metadata": {
  "kernelspec": {
   "display_name": "Python 3",
   "language": "python",
   "name": "python3"
  },
  "language_info": {
   "codemirror_mode": {
    "name": "ipython",
    "version": 3
   },
   "file_extension": ".py",
   "mimetype": "text/x-python",
   "name": "python",
   "nbconvert_exporter": "python",
   "pygments_lexer": "ipython3",
   "version": "3.9.0"
  }
 },
 "nbformat": 4,
 "nbformat_minor": 4
}
