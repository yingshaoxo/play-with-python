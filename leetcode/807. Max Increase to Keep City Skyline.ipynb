{
 "cells": [
  {
   "cell_type": "markdown",
   "id": "peripheral-malta",
   "metadata": {},
   "source": [
    "https://leetcode.com/problems/max-increase-to-keep-city-skyline\n",
    "\n",
    "\n",
    "\n",
    "Runtime: 60 ms, faster than 99.19% of Python3 online submissions for Max Increase to Keep City Skyline.\n",
    "Memory Usage: 14.4 MB, less than 58.68% of Python3 online submissions for Max Increase to Keep City Skyline.\n",
    "\n",
    "\n",
    "\n",
    "```python\n",
    "class Solution:\n",
    "    def maxIncreaseKeepingSkyline(self, grid: List[List[int]]) -> int:\n",
    "        #3:38\n",
    "        row_skyline = [max(row) for row in grid]\n",
    "        column_skyline = [max(column) for column in zip(*grid)]\n",
    "        #print(row_skyline)\n",
    "        #print(column_skyline)\n",
    "        result = 0\n",
    "        for y, row in enumerate(grid):\n",
    "            for x, value in enumerate(row):\n",
    "                target = min(row_skyline[y], column_skyline[x])\n",
    "                result += target-value\n",
    "        return result\n",
    "        #3:44\n",
    "```"
   ]
  },
  {
   "cell_type": "code",
   "execution_count": null,
   "id": "aging-wallpaper",
   "metadata": {},
   "outputs": [],
   "source": []
  }
 ],
 "metadata": {
  "kernelspec": {
   "display_name": "Python 3",
   "language": "python",
   "name": "python3"
  },
  "language_info": {
   "codemirror_mode": {
    "name": "ipython",
    "version": 3
   },
   "file_extension": ".py",
   "mimetype": "text/x-python",
   "name": "python",
   "nbconvert_exporter": "python",
   "pygments_lexer": "ipython3",
   "version": "3.8.5"
  }
 },
 "nbformat": 4,
 "nbformat_minor": 5
}
