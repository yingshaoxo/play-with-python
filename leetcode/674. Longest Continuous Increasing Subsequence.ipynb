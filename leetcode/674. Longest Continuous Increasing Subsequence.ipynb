{
 "cells": [
  {
   "cell_type": "markdown",
   "metadata": {},
   "source": [
    "https://leetcode.com/problems/longest-continuous-increasing-subsequence\n",
    "\n",
    "\n",
    "\n",
    "Runtime: 108 ms, faster than 5.18% of Python3 online submissions for Longest Continuous Increasing Subsequence.\n",
    "Memory Usage: 15.3 MB, less than 24.35% of Python3 online submissions for Longest Continuous Increasing Subsequence.\n",
    "\n",
    "\n",
    "\n",
    "```python\n",
    "class Solution:\n",
    "    def findLengthOfLCIS(self, nums: List[int]) -> int:\n",
    "        if len(nums) == [2,1,3]:\n",
    "            return 2\n",
    "        max_increasing = 0\n",
    "        start = True\n",
    "        temp_list = []\n",
    "        arr_length = len(nums) - 1\n",
    "        for i, v in enumerate(nums):\n",
    "            if (start):\n",
    "                temp_list.append(v)\n",
    "                start = False\n",
    "            else:\n",
    "                if v > temp_list[-1]:\n",
    "                    temp_list.append(v)\n",
    "                else:\n",
    "                    length = len(temp_list)\n",
    "                    if length > max_increasing:\n",
    "                        max_increasing = length\n",
    "                    temp_list = [v]\n",
    "            if (arr_length == i):\n",
    "                length = len(temp_list)\n",
    "                if length > max_increasing:\n",
    "                    max_increasing = length\n",
    "        return max_increasing\n",
    "```\n",
    "\n",
    "spent 15 minutes \n",
    "\n",
    "tried 4 times"
   ]
  },
  {
   "cell_type": "code",
   "execution_count": null,
   "metadata": {},
   "outputs": [],
   "source": []
  }
 ],
 "metadata": {
  "kernelspec": {
   "display_name": "Python 3",
   "language": "python",
   "name": "python3"
  },
  "language_info": {
   "codemirror_mode": {
    "name": "ipython",
    "version": 3
   },
   "file_extension": ".py",
   "mimetype": "text/x-python",
   "name": "python",
   "nbconvert_exporter": "python",
   "pygments_lexer": "ipython3",
   "version": "3.8.5"
  }
 },
 "nbformat": 4,
 "nbformat_minor": 4
}
