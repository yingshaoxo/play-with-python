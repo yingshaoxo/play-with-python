{
 "cells": [
  {
   "cell_type": "markdown",
   "id": "three-chuck",
   "metadata": {},
   "source": [
    "https://leetcode.com/problems/find-all-duplicates-in-an-array\n",
    "\n",
    "Runtime: 332 ms, faster than 95.09% of Python3 online submissions for Find All Duplicates in an Array.\n",
    "Memory Usage: 22.8 MB, less than 22.31% of Python3 online submissions for Find All Duplicates in an Array.\n",
    "\n",
    "```python\n",
    "class Solution:\n",
    "    def findDuplicates(self, nums: List[int]) -> List[int]:\n",
    "        #8:09\n",
    "        counter = dict()\n",
    "        results = []\n",
    "        for n in nums:\n",
    "            if n in counter:\n",
    "                counter[n] += 1\n",
    "                results.append(n)\n",
    "            else:\n",
    "                counter[n] = 1\n",
    "        return results\n",
    "        #8:11\n",
    "```"
   ]
  },
  {
   "cell_type": "code",
   "execution_count": null,
   "id": "mysterious-athens",
   "metadata": {},
   "outputs": [],
   "source": []
  }
 ],
 "metadata": {
  "kernelspec": {
   "display_name": "Python 3",
   "language": "python",
   "name": "python3"
  },
  "language_info": {
   "codemirror_mode": {
    "name": "ipython",
    "version": 3
   },
   "file_extension": ".py",
   "mimetype": "text/x-python",
   "name": "python",
   "nbconvert_exporter": "python",
   "pygments_lexer": "ipython3",
   "version": "3.8.5"
  }
 },
 "nbformat": 4,
 "nbformat_minor": 5
}
