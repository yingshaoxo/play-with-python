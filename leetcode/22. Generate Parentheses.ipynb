{
 "cells": [
  {
   "cell_type": "markdown",
   "id": "c42441e2-be74-4313-97db-6c712e168c78",
   "metadata": {},
   "source": [
    "https://leetcode.com/problems/generate-parentheses\n",
    "\n",
    "\n",
    "Runtime: 368 ms, faster than 5.09% of Python3 online submissions for Generate Parentheses.\n",
    "Memory Usage: 14.5 MB, less than 89.25% of Python3 online submissions for Generate Parentheses.\n",
    "\n",
    "\n",
    "```python\n",
    "class Solution:\n",
    "    def __init__(self):\n",
    "        self.doneLevelDict = {}\n",
    "    \n",
    "    def generateParenthesis(self, n: int) -> List[str]:\n",
    "        #2022.1.7 7:50\n",
    "        n *= 2\n",
    "        \n",
    "        if n in self.doneLevelDict:\n",
    "            return self.doneLevelDict[n]\n",
    "        \n",
    "        def validator(string):\n",
    "            if len(string) == 0:\n",
    "                return False\n",
    "            \n",
    "            for i in range(n // 2):\n",
    "                string = string.replace(\"()\", \"\", 1)\n",
    "                i += 1\n",
    "                if i != n//2:\n",
    "                    if string == \"\":\n",
    "                        return False\n",
    "                else:\n",
    "                    if string == \"\":\n",
    "                        return True\n",
    "        \n",
    "        tempList = []\n",
    "        def generate(string):\n",
    "            if len(string) == n:\n",
    "                return\n",
    "            else:\n",
    "                A = string + \"(\"\n",
    "                B = string + \")\"\n",
    "                if validator(A):\n",
    "                    tempList.append(A)\n",
    "                if validator(B):\n",
    "                    tempList.append(B)\n",
    "                generate(A)\n",
    "                generate(B)\n",
    "        \n",
    "        generate(\"\")\n",
    "        self.doneLevelDict[n] = tempList\n",
    "        return tempList\n",
    "        #2022.1.7 8:06\n",
    "        #debug until 8:10\n",
    "```"
   ]
  },
  {
   "cell_type": "code",
   "execution_count": null,
   "id": "013f44f3-0078-4fc8-9305-58f8ee4cee40",
   "metadata": {},
   "outputs": [],
   "source": []
  }
 ],
 "metadata": {
  "kernelspec": {
   "display_name": "Python 3 (ipykernel)",
   "language": "python",
   "name": "python3"
  },
  "language_info": {
   "codemirror_mode": {
    "name": "ipython",
    "version": 3
   },
   "file_extension": ".py",
   "mimetype": "text/x-python",
   "name": "python",
   "nbconvert_exporter": "python",
   "pygments_lexer": "ipython3",
   "version": "3.9.7"
  }
 },
 "nbformat": 4,
 "nbformat_minor": 5
}
