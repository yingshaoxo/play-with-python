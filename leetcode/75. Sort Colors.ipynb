{
 "cells": [
  {
   "cell_type": "markdown",
   "id": "sitting-potato",
   "metadata": {},
   "source": [
    "https://leetcode.com/problems/sort-colors\n",
    "\n",
    "Runtime: 32 ms, faster than 77.82% of Python3 online submissions for Sort Colors.\n",
    "Memory Usage: 14.2 MB, less than 48.32% of Python3 online submissions for Sort Colors.\n",
    "\n",
    "```python\n",
    "class Solution:\n",
    "    def sortColors(self, nums: List[int]) -> None:\n",
    "        \"\"\"\n",
    "        Do not return anything, modify nums in-place instead.\n",
    "        \"\"\"\n",
    "        #6:37\n",
    "        nums.sort()\n",
    "        #6:37\n",
    "```"
   ]
  },
  {
   "cell_type": "code",
   "execution_count": null,
   "id": "minor-rebound",
   "metadata": {},
   "outputs": [],
   "source": []
  }
 ],
 "metadata": {
  "kernelspec": {
   "display_name": "Python 3",
   "language": "python",
   "name": "python3"
  },
  "language_info": {
   "codemirror_mode": {
    "name": "ipython",
    "version": 3
   },
   "file_extension": ".py",
   "mimetype": "text/x-python",
   "name": "python",
   "nbconvert_exporter": "python",
   "pygments_lexer": "ipython3",
   "version": "3.8.5"
  }
 },
 "nbformat": 4,
 "nbformat_minor": 5
}
