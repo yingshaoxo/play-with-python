{
 "cells": [
  {
   "cell_type": "markdown",
   "metadata": {},
   "source": [
    "https://leetcode.com/problems/leaf-similar-trees\n",
    "\n",
    "\n",
    "Runtime: 36 ms, faster than 36.33% of Python3 online submissions for Leaf-Similar Trees.\n",
    "Memory Usage: 14.1 MB, less than 90.11% of Python3 online submissions for Leaf-Similar Trees.\n",
    "\n",
    "\n",
    "```python\n",
    "class Solution:\n",
    "    def leafSimilar(self, root1: TreeNode, root2: TreeNode) -> bool:\n",
    "        #7:14\n",
    "        self.l1 = []\n",
    "        self.l2 = []\n",
    "        self.travel1(root1)\n",
    "        self.travel2(root2)\n",
    "        if self.l1 == self.l2:\n",
    "            return True\n",
    "        else:\n",
    "            return False\n",
    "        #7:18\n",
    "        \n",
    "    def travel1(self, node):\n",
    "        if node is None:\n",
    "            return\n",
    "        self.travel1(node.left)\n",
    "        #print(node.val, end=\" \")\n",
    "        if (node.left == None and node.right==None):\n",
    "            self.l1.append(node.val)\n",
    "        self.travel1(node.right) \n",
    "        \n",
    "    def travel2(self, node):\n",
    "        if node is None:\n",
    "            return\n",
    "        self.travel2(node.left)\n",
    "        #print(node.val, end=\" \")\n",
    "        if (node.left == None and node.right==None):\n",
    "            self.l2.append(node.val)\n",
    "        self.travel2(node.right) \n",
    "```"
   ]
  },
  {
   "cell_type": "code",
   "execution_count": null,
   "metadata": {},
   "outputs": [],
   "source": []
  }
 ],
 "metadata": {
  "kernelspec": {
   "display_name": "Python 3",
   "language": "python",
   "name": "python3"
  },
  "language_info": {
   "codemirror_mode": {
    "name": "ipython",
    "version": 3
   },
   "file_extension": ".py",
   "mimetype": "text/x-python",
   "name": "python",
   "nbconvert_exporter": "python",
   "pygments_lexer": "ipython3",
   "version": "3.9.0"
  }
 },
 "nbformat": 4,
 "nbformat_minor": 4
}
