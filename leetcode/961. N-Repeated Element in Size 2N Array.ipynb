{
 "cells": [
  {
   "cell_type": "markdown",
   "id": "comprehensive-chancellor",
   "metadata": {},
   "source": [
    "https://leetcode.com/problems/n-repeated-element-in-size-2n-array/\n",
    "\n",
    "Runtime: 212 ms, faster than 49.52% of Python3 online submissions for N-Repeated Element in Size 2N Array.\n",
    "Memory Usage: 15.4 MB, less than 91.22% of Python3 online submissions for N-Repeated Element in Size 2N Array.\n",
    "\n",
    "```python\n",
    "class Solution:\n",
    "    def repeatedNTimes(self, A: List[int]) -> int:\n",
    "        #8:28\n",
    "        length = len(A)\n",
    "        N = length // 2\n",
    "        d = dict()\n",
    "        for v in A:\n",
    "            if v in d:\n",
    "                d[v] += 1\n",
    "            else:\n",
    "                d[v] = 1\n",
    "        return list(d.keys())[list(d.values()).index(N)]\n",
    "        #8:32\n",
    "```"
   ]
  },
  {
   "cell_type": "code",
   "execution_count": null,
   "id": "fifty-temple",
   "metadata": {},
   "outputs": [],
   "source": []
  }
 ],
 "metadata": {
  "kernelspec": {
   "display_name": "Python 3",
   "language": "python",
   "name": "python3"
  },
  "language_info": {
   "codemirror_mode": {
    "name": "ipython",
    "version": 3
   },
   "file_extension": ".py",
   "mimetype": "text/x-python",
   "name": "python",
   "nbconvert_exporter": "python",
   "pygments_lexer": "ipython3",
   "version": "3.8.5"
  }
 },
 "nbformat": 4,
 "nbformat_minor": 5
}
