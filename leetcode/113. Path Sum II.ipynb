{
 "cells": [
  {
   "cell_type": "markdown",
   "metadata": {},
   "source": [
    "https://leetcode.com/problems/path-sum-ii\n",
    "\n",
    "\n",
    "\n",
    "Runtime: 68 ms, faster than 5.34% of Python3 online submissions for Path Sum II.\n",
    "Memory Usage: 15.4 MB, less than 71.56% of Python3 online submissions for Path Sum II.\n",
    "\n",
    "\n",
    "\n",
    "```py\n",
    "# Definition for a binary tree node.\n",
    "# class TreeNode:\n",
    "#     def __init__(self, val=0, left=None, right=None):\n",
    "#         self.val = val\n",
    "#         self.left = left\n",
    "#         self.right = right\n",
    "class Solution:\n",
    "    paths = []\n",
    "    target = None\n",
    "    def pathSum(self, root: TreeNode, sum: int) -> List[List[int]]:\n",
    "        self.paths = []\n",
    "        self.target = sum\n",
    "        self.travel(root, [])\n",
    "        return self.paths\n",
    "        \n",
    "    def travel(self, node, l):\n",
    "        if node is None:\n",
    "            return\n",
    "        else:\n",
    "            #print(node.val, end=\" \")\n",
    "            l.append(node.val)\n",
    "            if node.left is None and node.right is None:\n",
    "                if sum(l) == self.target:\n",
    "                    self.paths.append(l)\n",
    "                #print(l)\n",
    "        length = len(l)\n",
    "        self.travel(node.left, l)\n",
    "        l = l[:length]\n",
    "        self.travel(node.right, l)\n",
    "```\n",
    "\n",
    "Spent 17 minutes\n",
    "\n",
    "One shoot"
   ]
  },
  {
   "cell_type": "code",
   "execution_count": null,
   "metadata": {},
   "outputs": [],
   "source": []
  }
 ],
 "metadata": {
  "kernelspec": {
   "display_name": "Python 3",
   "language": "python",
   "name": "python3"
  },
  "language_info": {
   "codemirror_mode": {
    "name": "ipython",
    "version": 3
   },
   "file_extension": ".py",
   "mimetype": "text/x-python",
   "name": "python",
   "nbconvert_exporter": "python",
   "pygments_lexer": "ipython3",
   "version": "3.8.5"
  }
 },
 "nbformat": 4,
 "nbformat_minor": 4
}
