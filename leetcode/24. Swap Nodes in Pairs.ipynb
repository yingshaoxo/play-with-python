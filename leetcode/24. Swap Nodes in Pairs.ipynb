{
 "cells": [
  {
   "cell_type": "markdown",
   "id": "99df58a5-7ea5-4f47-8396-e07a2a3f301f",
   "metadata": {},
   "source": [
    "https://leetcode.com/problems/swap-nodes-in-pairs\n",
    "\n",
    "\n",
    "Runtime: 32 ms, faster than 63.92% of Python3 online submissions for Swap Nodes in Pairs.\n",
    "Memory Usage: 14.2 MB, less than 47.06% of Python3 online submissions for Swap Nodes in Pairs.\n",
    "\n",
    "\n",
    "```python\n",
    "class Solution:\n",
    "    def swapPairs(self, head: ListNode) -> ListNode:\n",
    "        #6:42\n",
    "        l = []\n",
    "        node = head\n",
    "        while node != None:\n",
    "            l.append(node)\n",
    "            node = node.next\n",
    "            \n",
    "        if len(l) == 0:\n",
    "            return None\n",
    "        \n",
    "        new_l = []\n",
    "        for index, node in enumerate(l):\n",
    "            if (index % 2 != 0):\n",
    "                new_l.insert(len(new_l)-1, node)\n",
    "            else:\n",
    "                new_l.append(node)\n",
    "        for index, node in enumerate(new_l):\n",
    "            if (index == len(new_l) - 1):\n",
    "                node.next = None\n",
    "            else:\n",
    "                node.next = new_l[index+1]\n",
    "        return new_l[0]\n",
    "        #6:49\n",
    "```"
   ]
  },
  {
   "cell_type": "code",
   "execution_count": null,
   "id": "36cf4f00-8eb3-4933-a7a0-4885c46df5e5",
   "metadata": {},
   "outputs": [],
   "source": []
  }
 ],
 "metadata": {
  "kernelspec": {
   "display_name": "Python 3",
   "language": "python",
   "name": "python3"
  },
  "language_info": {
   "codemirror_mode": {
    "name": "ipython",
    "version": 3
   },
   "file_extension": ".py",
   "mimetype": "text/x-python",
   "name": "python",
   "nbconvert_exporter": "python",
   "pygments_lexer": "ipython3",
   "version": "3.8.6"
  }
 },
 "nbformat": 4,
 "nbformat_minor": 5
}
