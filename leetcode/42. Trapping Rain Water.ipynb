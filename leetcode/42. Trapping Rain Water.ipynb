{
 "cells": [
  {
   "cell_type": "markdown",
   "id": "20c62837-5261-4604-acc4-bed8554b86dc",
   "metadata": {},
   "source": [
    "https://leetcode.com/problems/trapping-rain-water/\n",
    "\n",
    "\n",
    "Memory Limit Exceeded\n",
    "\n",
    "\n",
    "```python\n",
    "class Solution:\n",
    "    def trap(self, height: List[int]) -> int:\n",
    "        #9:02\n",
    "        self.sum = 0\n",
    "        def conditionMatch(numbers: List[int]):\n",
    "            #print(numbers, self.sum)\n",
    "            if len(numbers) <= 2:\n",
    "                return\n",
    "            \n",
    "            startIndex = 0\n",
    "            startNumber = None\n",
    "            for index, number in enumerate(numbers):\n",
    "                if startNumber == None:\n",
    "                    startNumber = number\n",
    "                else:\n",
    "                    if number >= startNumber:\n",
    "                        self.sum += startNumber * (index - startIndex) - sum(numbers[startIndex: index])\n",
    "                        conditionMatch(numbers[index:])\n",
    "                        return\n",
    "                    \n",
    "            conditionMatch(list(reversed(numbers)))\n",
    "            \n",
    "        conditionMatch(height)\n",
    "        \n",
    "        return self.sum\n",
    "        #9:08\n",
    "        #debug until 9:20, 320 / 320 test cases passed, but took too much memory.\n",
    "```"
   ]
  }
 ],
 "metadata": {
  "kernelspec": {
   "display_name": "Python 3 (ipykernel)",
   "language": "python",
   "name": "python3"
  },
  "language_info": {
   "codemirror_mode": {
    "name": "ipython",
    "version": 3
   },
   "file_extension": ".py",
   "mimetype": "text/x-python",
   "name": "python",
   "nbconvert_exporter": "python",
   "pygments_lexer": "ipython3",
   "version": "3.9.7"
  }
 },
 "nbformat": 4,
 "nbformat_minor": 5
}
