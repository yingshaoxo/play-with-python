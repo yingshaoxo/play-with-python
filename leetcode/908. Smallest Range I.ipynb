{
 "cells": [
  {
   "cell_type": "code",
   "execution_count": 1,
   "id": "ideal-democracy",
   "metadata": {},
   "outputs": [],
   "source": [
    "A = [9,1,2,3,9]\n",
    "K = 3"
   ]
  },
  {
   "cell_type": "code",
   "execution_count": 7,
   "id": "social-texas",
   "metadata": {},
   "outputs": [
    {
     "name": "stdout",
     "output_type": "stream",
     "text": [
      "[9, 1, 2]\n",
      "[1, 2, 3]\n",
      "[2, 3, 9]\n"
     ]
    }
   ],
   "source": [
    "for i,v in enumerate(A):\n",
    "    if i+K <= len(A):\n",
    "        print(A[i:i+K])"
   ]
  },
  {
   "cell_type": "markdown",
   "id": "constant-confirmation",
   "metadata": {},
   "source": [
    "https://leetcode.com/problems/smallest-range-i\n",
    "\n",
    "\n",
    "Time Limit Exceeded\n",
    "\n",
    "\n",
    "```python\n",
    "class Solution:\n",
    "    def my_function(self, A: List[int], K: int, average: int) -> int:\n",
    "        for i,v in enumerate(A):\n",
    "            diff = v - average\n",
    "            abs_diff = abs(diff)\n",
    "            if diff > 0:\n",
    "                #v>average\n",
    "                if abs_diff < K:\n",
    "                    v -= abs_diff\n",
    "                else:\n",
    "                    v -= K\n",
    "            elif diff < 0:\n",
    "                #v<average\n",
    "                if abs_diff < K:\n",
    "                    v += abs_diff\n",
    "                else:\n",
    "                    v += K\n",
    "            else:\n",
    "                #v == average\n",
    "                pass\n",
    "            A[i] = v\n",
    "        return int(max(A) - min(A))\n",
    "        \n",
    "    def smallestRangeI(self, A: List[int], K: int) -> int:\n",
    "        #6:44\n",
    "        average = int(sum(A)/len(A))\n",
    "        results = []\n",
    "        for i in range(average-K-1, average+K+1):\n",
    "            r = self.my_function(A.copy(), K, i)\n",
    "            results.append(r)\n",
    "        if len(results):\n",
    "            return min(results)\n",
    "        else:\n",
    "            return int(max(A) - min(A))\n",
    "        #7:02\n",
    "```"
   ]
  },
  {
   "cell_type": "code",
   "execution_count": null,
   "id": "musical-combining",
   "metadata": {},
   "outputs": [],
   "source": []
  }
 ],
 "metadata": {
  "kernelspec": {
   "display_name": "Python 3",
   "language": "python",
   "name": "python3"
  },
  "language_info": {
   "codemirror_mode": {
    "name": "ipython",
    "version": 3
   },
   "file_extension": ".py",
   "mimetype": "text/x-python",
   "name": "python",
   "nbconvert_exporter": "python",
   "pygments_lexer": "ipython3",
   "version": "3.8.5"
  }
 },
 "nbformat": 4,
 "nbformat_minor": 5
}
