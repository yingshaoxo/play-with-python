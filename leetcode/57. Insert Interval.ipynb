{
 "cells": [
  {
   "cell_type": "code",
   "execution_count": 1,
   "id": "freelance-silver",
   "metadata": {},
   "outputs": [
    {
     "data": {
      "text/plain": [
       "0"
      ]
     },
     "execution_count": 1,
     "metadata": {},
     "output_type": "execute_result"
    }
   ],
   "source": [
    "0 % 2"
   ]
  },
  {
   "cell_type": "code",
   "execution_count": 2,
   "id": "grateful-strategy",
   "metadata": {},
   "outputs": [
    {
     "data": {
      "text/plain": [
       "0"
      ]
     },
     "execution_count": 2,
     "metadata": {},
     "output_type": "execute_result"
    }
   ],
   "source": [
    "2 % 2"
   ]
  },
  {
   "cell_type": "markdown",
   "id": "greatest-binding",
   "metadata": {},
   "source": [
    "https://leetcode.com/problems/insert-interval\n",
    "\n",
    "Wrong Answer (I think my answer is better than the \"right answer\")\n",
    "\n",
    "```python\n",
    "class Solution:\n",
    "    def insert(self, intervals: List[List[int]], newInterval: List[int]) -> List[List[int]]:\n",
    "        #5:56\n",
    "        a = newInterval[0]\n",
    "        b = newInterval[1]\n",
    "        the_list = []\n",
    "        for interval in intervals:\n",
    "            if a != None:\n",
    "                if a > interval[0] and a < interval[1]:\n",
    "                    a = None\n",
    "            if b != None:\n",
    "                if b > interval[0] and b < interval[1]:\n",
    "                    b = None\n",
    "            if interval[0] < newInterval[0] or interval[0] > newInterval[1]:\n",
    "                the_list.append(interval[0])\n",
    "            if interval[1] < newInterval[0] or interval[1] > newInterval[1]:\n",
    "                the_list.append(interval[1])\n",
    "        if a is not None:\n",
    "            the_list.append(a)\n",
    "        if b is not None:\n",
    "            the_list.append(b)\n",
    "        the_list.sort()\n",
    "        print(the_list)\n",
    "        real_list = []\n",
    "        for i,v in enumerate(the_list):\n",
    "            if i%2 == 0 and i != len(the_list)-1:\n",
    "                real_list.append([])\n",
    "            real_list[-1].append(v)\n",
    "        for i,v in enumerate(real_list):\n",
    "            if len(v) != 2 and i != 0:\n",
    "                real_list[i-1][1] = real_list[i][0] \n",
    "                real_list[i] = real_list[i][-2:]\n",
    "            if len(v) != 2 and i == 0:\n",
    "                real_list[i] = [real_list[i][0], real_list[i][-1]]\n",
    "        return real_list\n",
    "        #6:06\n",
    "              \n",
    "```"
   ]
  },
  {
   "cell_type": "code",
   "execution_count": null,
   "id": "elementary-biology",
   "metadata": {},
   "outputs": [],
   "source": []
  }
 ],
 "metadata": {
  "kernelspec": {
   "display_name": "Python 3",
   "language": "python",
   "name": "python3"
  },
  "language_info": {
   "codemirror_mode": {
    "name": "ipython",
    "version": 3
   },
   "file_extension": ".py",
   "mimetype": "text/x-python",
   "name": "python",
   "nbconvert_exporter": "python",
   "pygments_lexer": "ipython3",
   "version": "3.8.5"
  }
 },
 "nbformat": 4,
 "nbformat_minor": 5
}
