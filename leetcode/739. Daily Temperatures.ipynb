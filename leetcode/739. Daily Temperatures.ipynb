{
 "cells": [
  {
   "cell_type": "markdown",
   "metadata": {},
   "source": [
    "https://leetcode.com/problems/daily-temperatures/\n",
    "\n",
    "\n",
    "Time Limit Exceeded\n",
    "\n",
    "\n",
    "\n",
    "```python\n",
    "class Solution:\n",
    "    def dailyTemperatures(self, T: List[int]) -> List[int]:\n",
    "        #5:36\n",
    "        r = []\n",
    "        for i,v in enumerate(T):\n",
    "            days = 0\n",
    "            found = False\n",
    "            for i2,v2 in enumerate(T[i+1:]):\n",
    "                days += 1\n",
    "                if v2 > v:\n",
    "                    found = True\n",
    "                    break\n",
    "            if found:\n",
    "                r.append(days)\n",
    "            else:\n",
    "                r.append(0)\n",
    "        return r\n",
    "        #5:40\n",
    "```"
   ]
  },
  {
   "cell_type": "code",
   "execution_count": null,
   "metadata": {},
   "outputs": [],
   "source": []
  }
 ],
 "metadata": {
  "kernelspec": {
   "display_name": "Python 3",
   "language": "python",
   "name": "python3"
  },
  "language_info": {
   "codemirror_mode": {
    "name": "ipython",
    "version": 3
   },
   "file_extension": ".py",
   "mimetype": "text/x-python",
   "name": "python",
   "nbconvert_exporter": "python",
   "pygments_lexer": "ipython3",
   "version": "3.9.0"
  }
 },
 "nbformat": 4,
 "nbformat_minor": 4
}
