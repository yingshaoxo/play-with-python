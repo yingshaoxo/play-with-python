{
 "cells": [
  {
   "cell_type": "markdown",
   "id": "341b407f-89fd-4ad4-be16-d3ecf00acb0f",
   "metadata": {},
   "source": [
    "https://leetcode.com/problems/search-in-rotated-sorted-array-ii\n",
    "\n",
    "\n",
    "Runtime: 88 ms, faster than 6.99% of Python3 online submissions for Search in Rotated Sorted Array II.\n",
    "Memory Usage: 14.8 MB, less than 85.11% of Python3 online submissions for Search in Rotated Sorted Array II.\n",
    "\n",
    "\n",
    "\n",
    "```python\n",
    "class Solution:\n",
    "    def search(self, nums: List[int], target: int) -> bool:\n",
    "        if target in nums:\n",
    "            return True\n",
    "        else:\n",
    "            return False\n",
    "```"
   ]
  },
  {
   "cell_type": "code",
   "execution_count": null,
   "id": "3af3cf67-9a85-43d7-99d8-3743c80a7904",
   "metadata": {},
   "outputs": [],
   "source": []
  }
 ],
 "metadata": {
  "kernelspec": {
   "display_name": "Python 3",
   "language": "python",
   "name": "python3"
  },
  "language_info": {
   "codemirror_mode": {
    "name": "ipython",
    "version": 3
   },
   "file_extension": ".py",
   "mimetype": "text/x-python",
   "name": "python",
   "nbconvert_exporter": "python",
   "pygments_lexer": "ipython3",
   "version": "3.8.6"
  }
 },
 "nbformat": 4,
 "nbformat_minor": 5
}
