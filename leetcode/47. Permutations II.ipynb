{
 "cells": [
  {
   "cell_type": "markdown",
   "metadata": {},
   "source": [
    "https://leetcode.com/problems/permutations-ii\n",
    "\n",
    "\n",
    "\n",
    "Runtime: 648 ms, faster than 11.25% of Python3 online submissions for Permutations II.\n",
    "Memory Usage: 14.8 MB, less than 8.52% of Python3 online submissions for Permutations II.\n",
    "\n",
    "\n",
    "\n",
    "```py\n",
    "from itertools import permutations\n",
    "\n",
    "class Solution:\n",
    "    def permuteUnique(self, nums: List[int]) -> List[List[int]]:\n",
    "        r = []\n",
    "        [r.append(l) if l not in r else 0 for l in permutations(nums, len(nums))]\n",
    "        return r\n",
    "```\n",
    "\n",
    "\n",
    "Spent 5 minutes\n",
    "\n",
    "1 Shoot"
   ]
  },
  {
   "cell_type": "code",
   "execution_count": null,
   "metadata": {},
   "outputs": [],
   "source": []
  }
 ],
 "metadata": {
  "kernelspec": {
   "display_name": "Python 3",
   "language": "python",
   "name": "python3"
  },
  "language_info": {
   "codemirror_mode": {
    "name": "ipython",
    "version": 3
   },
   "file_extension": ".py",
   "mimetype": "text/x-python",
   "name": "python",
   "nbconvert_exporter": "python",
   "pygments_lexer": "ipython3",
   "version": "3.9.0"
  }
 },
 "nbformat": 4,
 "nbformat_minor": 4
}
