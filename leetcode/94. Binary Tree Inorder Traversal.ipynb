{
 "cells": [
  {
   "cell_type": "markdown",
   "id": "4da9f2ce-3608-4088-bc31-f1ecb38bc60e",
   "metadata": {},
   "source": [
    "https://leetcode.com/problems/binary-tree-inorder-traversal\n",
    "\n",
    "\n",
    "Runtime: 64 ms, faster than 6.99% of Python3 online submissions for Binary Tree Inorder Traversal.\n",
    "Memory Usage: 14.4 MB, less than 11.91% of Python3 online submissions for Binary Tree Inorder Traversal.\n",
    "\n",
    "\n",
    "\n",
    "```python\n",
    "class Solution:\n",
    "    def inorderTraversal(self, root: TreeNode) -> List[int]:\n",
    "        #7:13\n",
    "        l = []\n",
    "        def travel(node):\n",
    "            if (node != None):\n",
    "                travel(node.left)\n",
    "                #print(node.val)\n",
    "                l.append(node.val)\n",
    "                travel(node.right)\n",
    "            else:\n",
    "                return\n",
    "        travel(root)\n",
    "        return l\n",
    "        #7:16\n",
    "```"
   ]
  },
  {
   "cell_type": "code",
   "execution_count": null,
   "id": "ff7933e7-b8dd-4ff1-9dd2-c5f9ef77ea97",
   "metadata": {},
   "outputs": [],
   "source": []
  }
 ],
 "metadata": {
  "kernelspec": {
   "display_name": "Python 3",
   "language": "python",
   "name": "python3"
  },
  "language_info": {
   "codemirror_mode": {
    "name": "ipython",
    "version": 3
   },
   "file_extension": ".py",
   "mimetype": "text/x-python",
   "name": "python",
   "nbconvert_exporter": "python",
   "pygments_lexer": "ipython3",
   "version": "3.8.6"
  }
 },
 "nbformat": 4,
 "nbformat_minor": 5
}
