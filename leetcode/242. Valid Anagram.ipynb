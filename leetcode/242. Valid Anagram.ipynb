{
 "cells": [
  {
   "cell_type": "markdown",
   "id": "strong-investigator",
   "metadata": {},
   "source": [
    "https://leetcode.com/problems/valid-anagram\n",
    "\n",
    "\n",
    "Runtime: 40 ms, faster than 85.82% of Python3 online submissions for Valid Anagram.\n",
    "Memory Usage: 14.6 MB, less than 45.86% of Python3 online submissions for Valid Anagram.\n",
    "\n",
    "\n",
    "```python\n",
    "from collections import Counter\n",
    "class Solution:\n",
    "    def isAnagram(self, s: str, t: str) -> bool:\n",
    "        #7:37\n",
    "        if Counter(s) == Counter(t): return True\n",
    "        else: return False\n",
    "        #7:39\n",
    "```"
   ]
  },
  {
   "cell_type": "code",
   "execution_count": null,
   "id": "robust-pearl",
   "metadata": {},
   "outputs": [],
   "source": []
  }
 ],
 "metadata": {
  "kernelspec": {
   "display_name": "Python 3",
   "language": "python",
   "name": "python3"
  },
  "language_info": {
   "codemirror_mode": {
    "name": "ipython",
    "version": 3
   },
   "file_extension": ".py",
   "mimetype": "text/x-python",
   "name": "python",
   "nbconvert_exporter": "python",
   "pygments_lexer": "ipython3",
   "version": "3.8.5"
  }
 },
 "nbformat": 4,
 "nbformat_minor": 5
}
