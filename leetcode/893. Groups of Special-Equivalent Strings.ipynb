{
 "cells": [
  {
   "cell_type": "markdown",
   "id": "gothic-upper",
   "metadata": {},
   "source": [
    "https://leetcode.com/problems/unique-email-addresses\n",
    "\n",
    "\n",
    "Runtime: 44 ms, faster than 94.60% of Python3 online submissions for Unique Email Addresses.\n",
    "Memory Usage: 14.4 MB, less than 62.51% of Python3 online submissions for Unique Email Addresses.\n",
    "\n",
    "\n",
    "```python\n",
    "class Solution:\n",
    "    def numUniqueEmails(self, emails: List[str]) -> int:\n",
    "        #7:38\n",
    "        real_emails = []\n",
    "        for e in emails:\n",
    "            splits = e.split(\"@\")\n",
    "            local_name = splits[0]\n",
    "            domain_name = splits[1]\n",
    "            local_name = local_name.replace(\".\", \"\")\n",
    "            if \"+\" in local_name:\n",
    "                local_name = local_name.split(\"+\")[0]\n",
    "            e = local_name + \"@\" + domain_name\n",
    "            real_emails.append(e)\n",
    "        return len(set(real_emails))\n",
    "        #7:42\n",
    "```"
   ]
  },
  {
   "cell_type": "code",
   "execution_count": null,
   "id": "stopped-division",
   "metadata": {},
   "outputs": [],
   "source": []
  }
 ],
 "metadata": {
  "kernelspec": {
   "display_name": "Python 3",
   "language": "python",
   "name": "python3"
  },
  "language_info": {
   "codemirror_mode": {
    "name": "ipython",
    "version": 3
   },
   "file_extension": ".py",
   "mimetype": "text/x-python",
   "name": "python",
   "nbconvert_exporter": "python",
   "pygments_lexer": "ipython3",
   "version": "3.8.5"
  }
 },
 "nbformat": 4,
 "nbformat_minor": 5
}
