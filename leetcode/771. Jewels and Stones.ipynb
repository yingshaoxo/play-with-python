{
 "cells": [
  {
   "cell_type": "markdown",
   "metadata": {},
   "source": [
    "https://leetcode.com/problems/jewels-and-stones\n",
    "\n",
    "\n",
    "Runtime: 28 ms, faster than 85.40% of Python3 online submissions for Jewels and Stones.\n",
    "Memory Usage: 14.4 MB, less than 13.61% of Python3 online submissions for Jewels and Stones.\n",
    "\n",
    "\n",
    "```python\n",
    "class Solution:\n",
    "    def numJewelsInStones(self, jewels: str, stones: str) -> int:\n",
    "        #5:50\n",
    "        d = dict()\n",
    "        for s in stones:\n",
    "            if s in d:\n",
    "                d[s] += 1\n",
    "            else:\n",
    "                d[s] = 1\n",
    "        counting = 0\n",
    "        for j in jewels:\n",
    "            if j in d:\n",
    "                counting += d[j]\n",
    "        return counting\n",
    "        #5:51\n",
    "```"
   ]
  },
  {
   "cell_type": "code",
   "execution_count": null,
   "metadata": {},
   "outputs": [],
   "source": []
  }
 ],
 "metadata": {
  "kernelspec": {
   "display_name": "Python 3",
   "language": "python",
   "name": "python3"
  },
  "language_info": {
   "codemirror_mode": {
    "name": "ipython",
    "version": 3
   },
   "file_extension": ".py",
   "mimetype": "text/x-python",
   "name": "python",
   "nbconvert_exporter": "python",
   "pygments_lexer": "ipython3",
   "version": "3.9.0"
  }
 },
 "nbformat": 4,
 "nbformat_minor": 4
}
