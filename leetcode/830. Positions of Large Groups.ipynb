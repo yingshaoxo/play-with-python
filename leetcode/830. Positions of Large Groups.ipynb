{
 "cells": [
  {
   "cell_type": "code",
   "execution_count": 16,
   "metadata": {},
   "outputs": [],
   "source": [
    "s = \"abbxxxxyyyyyyyyzzy\""
   ]
  },
  {
   "cell_type": "code",
   "execution_count": 18,
   "metadata": {},
   "outputs": [
    {
     "name": "stdout",
     "output_type": "stream",
     "text": [
      "----\n",
      "0 a\n",
      "----\n",
      "1 b\n",
      "2 b\n",
      "----\n",
      "3 x\n",
      "4 x\n",
      "5 x\n",
      "6 x\n",
      "----\n",
      "7 y\n",
      "8 y\n",
      "9 y\n",
      "10 y\n",
      "11 y\n",
      "12 y\n",
      "13 y\n",
      "14 y\n",
      "----\n",
      "15 z\n",
      "16 z\n",
      "----\n",
      "17 y\n",
      "[[3, 6], [7, 14]]\n"
     ]
    }
   ],
   "source": [
    "array = []\n",
    "last = None\n",
    "interval = []\n",
    "for index, c in enumerate(s):\n",
    "    if c != last:\n",
    "        if (len(interval) == 0):\n",
    "            interval.append(index)\n",
    "        else:\n",
    "            interval.append(index-1)\n",
    "            if (interval[1] - interval[0]) >= 2:\n",
    "                array.append(interval.copy())\n",
    "            interval = [index]\n",
    "        print(\"----\")\n",
    "    print(index, c)\n",
    "    last = c\n",
    "array.sort()\n",
    "print(array)"
   ]
  },
  {
   "cell_type": "code",
   "execution_count": null,
   "metadata": {},
   "outputs": [],
   "source": []
  },
  {
   "cell_type": "code",
   "execution_count": null,
   "metadata": {},
   "outputs": [],
   "source": []
  },
  {
   "cell_type": "markdown",
   "metadata": {},
   "source": [
    "https://leetcode.com/problems/positions-of-large-groups\n",
    "\n",
    "\n",
    "\n",
    "Runtime: 56 ms, faster than 9.68% of Python3 online submissions for Positions of Large Groups.\n",
    "Memory Usage: 14.6 MB, less than 8.06% of Python3 online submissions for Positions of Large Groups.\n",
    "\n",
    "\n",
    "\n",
    "```python\n",
    "class Solution:\n",
    "    def largeGroupPositions(self, s: str) -> List[List[int]]:\n",
    "        array = []\n",
    "        interval = []\n",
    "        last = None\n",
    "        for index, c in enumerate(s):\n",
    "            if c != last:\n",
    "                if (len(interval) == 0):\n",
    "                    interval.append(index)\n",
    "                else:\n",
    "                    interval.append(index-1)\n",
    "                    if (interval[1] - interval[0]) >= 2:\n",
    "                        array.append(interval.copy())\n",
    "                    interval = [index]\n",
    "                print(\"----\")\n",
    "            if index == len(s)-1:\n",
    "                if len(interval) == 1:\n",
    "                    interval.append(len(s)-1)\n",
    "                    if (interval[1] - interval[0]) >= 2:\n",
    "                        array.append(interval.copy())\n",
    "            print(index, c)\n",
    "            last = c\n",
    "        array.sort()\n",
    "        return array\n",
    "```"
   ]
  },
  {
   "cell_type": "code",
   "execution_count": null,
   "metadata": {},
   "outputs": [],
   "source": []
  }
 ],
 "metadata": {
  "kernelspec": {
   "display_name": "Python 3",
   "language": "python",
   "name": "python3"
  },
  "language_info": {
   "codemirror_mode": {
    "name": "ipython",
    "version": 3
   },
   "file_extension": ".py",
   "mimetype": "text/x-python",
   "name": "python",
   "nbconvert_exporter": "python",
   "pygments_lexer": "ipython3",
   "version": "3.8.5"
  }
 },
 "nbformat": 4,
 "nbformat_minor": 4
}
