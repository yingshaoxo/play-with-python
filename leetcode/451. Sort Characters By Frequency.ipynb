{
 "cells": [
  {
   "cell_type": "markdown",
   "metadata": {},
   "source": [
    "https://leetcode.com/problems/sort-characters-by-frequency\n",
    "\n",
    "\n",
    "Runtime: 28 ms, faster than 98.86% of Python3 online submissions for Sort Characters By Frequency.\n",
    "Memory Usage: 15.5 MB, less than 36.26% of Python3 online submissions for Sort Characters By Frequency.\n",
    "\n",
    "\n",
    "```python\n",
    "from collections import Counter\n",
    "\n",
    "class Solution:\n",
    "    def frequencySort(self, s: str) -> str:\n",
    "        c = Counter(s)\n",
    "        return \"\".join([item[0]*item[1] for item in c.most_common()])\n",
    "```\n",
    "\n",
    "\n",
    "Spent 5 minutes"
   ]
  },
  {
   "cell_type": "code",
   "execution_count": null,
   "metadata": {},
   "outputs": [],
   "source": []
  }
 ],
 "metadata": {
  "kernelspec": {
   "display_name": "Python 3",
   "language": "python",
   "name": "python3"
  },
  "language_info": {
   "codemirror_mode": {
    "name": "ipython",
    "version": 3
   },
   "file_extension": ".py",
   "mimetype": "text/x-python",
   "name": "python",
   "nbconvert_exporter": "python",
   "pygments_lexer": "ipython3",
   "version": "3.9.0"
  }
 },
 "nbformat": 4,
 "nbformat_minor": 4
}
