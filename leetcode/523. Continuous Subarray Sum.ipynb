{
 "cells": [
  {
   "cell_type": "markdown",
   "id": "c3be1a0f-1c7c-46c0-9e00-0ef9a54bf8d2",
   "metadata": {},
   "source": [
    "https://leetcode.com/problems/continuous-subarray-sum"
   ]
  },
  {
   "cell_type": "markdown",
   "id": "a04801a8-f0d1-4d47-a194-e5331c154202",
   "metadata": {},
   "source": [
    "# 2023/02/01\n",
    " \n",
    " \n",
    "Timeout\n",
    "\n",
    "\n",
    "```python\n",
    "class Solution:\n",
    "    def checkSubarraySum(self, nums: List[int], k: int) -> bool:\n",
    "        #2023/02/01 06:52\n",
    "        for index1, _ in enumerate(nums):\n",
    "            temp_array = nums[index1:]\n",
    "            for index2, _ in enumerate(temp_array):\n",
    "                sub_array = temp_array[:index2+1]\n",
    "                # print(sub_array)\n",
    "                if len(sub_array) >= 2:\n",
    "                    if sum(sub_array) % k == 0:\n",
    "                        return True\n",
    "        return False\n",
    "        #2023/02/01 06:58\n",
    "```"
   ]
  },
  {
   "cell_type": "code",
   "execution_count": null,
   "id": "9e4f4cdd-415c-491b-8486-bc0fd5529100",
   "metadata": {},
   "outputs": [],
   "source": []
  }
 ],
 "metadata": {
  "kernelspec": {
   "display_name": "Python 3 (ipykernel)",
   "language": "python",
   "name": "python3"
  },
  "language_info": {
   "codemirror_mode": {
    "name": "ipython",
    "version": 3
   },
   "file_extension": ".py",
   "mimetype": "text/x-python",
   "name": "python",
   "nbconvert_exporter": "python",
   "pygments_lexer": "ipython3",
   "version": "3.10.9"
  }
 },
 "nbformat": 4,
 "nbformat_minor": 5
}
