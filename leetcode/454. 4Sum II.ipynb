{
 "cells": [
  {
   "cell_type": "markdown",
   "id": "45b1dfba-4417-4a41-b805-fc49206f493f",
   "metadata": {},
   "source": [
    "https://leetcode.com/problems/4sum-ii/"
   ]
  },
  {
   "cell_type": "markdown",
   "id": "6feb239e-1abd-4943-8e85-60ff98a9fd84",
   "metadata": {},
   "source": [
    "# 2023/02/02"
   ]
  },
  {
   "cell_type": "markdown",
   "id": "46006dcc-78c6-4a54-9298-392cd69fe510",
   "metadata": {},
   "source": [
    "Timeout\n",
    "\n",
    "```python\n",
    "class Solution:\n",
    "    def fourSumCount(selkf, nums1: List[int], nums2: List[int], nums3: List[int], nums4: List[int]) -> int:\n",
    "        #2023/02/02 09:46\n",
    "        counting = 0\n",
    "        for index1, num1 in enumerate(nums1):\n",
    "            for index2, num2 in enumerate(nums2):\n",
    "                for index3, num3 in enumerate(nums3):\n",
    "                    for index4, num4 in enumerate(nums4):\n",
    "                        if (num1 + num2 + num3 + num4) == 0:\n",
    "                            counting += 1\n",
    "        return counting\n",
    "        #2023/02/02 09:48\n",
    "```"
   ]
  },
  {
   "cell_type": "code",
   "execution_count": null,
   "id": "03cae479-dd5a-49df-9a8c-b0d956bde345",
   "metadata": {},
   "outputs": [],
   "source": []
  }
 ],
 "metadata": {
  "kernelspec": {
   "display_name": "Python 3 (ipykernel)",
   "language": "python",
   "name": "python3"
  },
  "language_info": {
   "codemirror_mode": {
    "name": "ipython",
    "version": 3
   },
   "file_extension": ".py",
   "mimetype": "text/x-python",
   "name": "python",
   "nbconvert_exporter": "python",
   "pygments_lexer": "ipython3",
   "version": "3.10.9"
  }
 },
 "nbformat": 4,
 "nbformat_minor": 5
}
