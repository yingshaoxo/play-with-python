{
 "cells": [
  {
   "cell_type": "markdown",
   "id": "first-history",
   "metadata": {},
   "source": [
    "https://leetcode.com/problems/group-anagrams/\n",
    "\n",
    "\n",
    "Runtime: 96 ms, faster than 75.86% of Python3 online submissions for Group Anagrams.\n",
    "Memory Usage: 17.3 MB, less than 76.45% of Python3 online submissions for Group Anagrams.\n",
    "\n",
    "\n",
    "\n",
    "```python\n",
    "class Solution:\n",
    "    def groupAnagrams(self, strs: List[str]) -> List[List[str]]:\n",
    "        #7:54\n",
    "        d = dict()\n",
    "        for s in strs:\n",
    "            one = list(s)\n",
    "            one.sort()\n",
    "            one = \"\".join(one)\n",
    "            if one not in d:\n",
    "                d[one] = [s]\n",
    "            else:\n",
    "                d[one].append(s)\n",
    "        return list(d.values())\n",
    "        #7:59\n",
    "```"
   ]
  },
  {
   "cell_type": "code",
   "execution_count": null,
   "id": "statistical-client",
   "metadata": {},
   "outputs": [],
   "source": []
  }
 ],
 "metadata": {
  "kernelspec": {
   "display_name": "Python 3",
   "language": "python",
   "name": "python3"
  },
  "language_info": {
   "codemirror_mode": {
    "name": "ipython",
    "version": 3
   },
   "file_extension": ".py",
   "mimetype": "text/x-python",
   "name": "python",
   "nbconvert_exporter": "python",
   "pygments_lexer": "ipython3",
   "version": "3.8.5"
  }
 },
 "nbformat": 4,
 "nbformat_minor": 5
}
