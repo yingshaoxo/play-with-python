{
 "cells": [
  {
   "cell_type": "markdown",
   "id": "ec1ea2bc-c9bc-44aa-b91f-9c4e0c11a14b",
   "metadata": {},
   "source": [
    "https://leetcode.com/problems/permutation-sequence\n",
    "\n",
    "Accepted\n",
    "\n",
    "___\n",
    "\n",
    "Runtime\n",
    "1241 ms\n",
    "\n",
    "Beats\n",
    "13.8%\n",
    "\n",
    "Memory\n",
    "14 MB\n",
    "\n",
    "Beats\n",
    "33.97%\n",
    "\n",
    "___\n",
    "\n",
    "\n",
    "```python\n",
    "from itertools import permutations\n",
    "\n",
    "class Solution:\n",
    "    def getPermutation(self, n: int, k: int) -> str:\n",
    "        #2022/12/05 06:05\n",
    "\n",
    "        def get_1_to_n_list(n, list_):\n",
    "            if n == 0:\n",
    "                list_.reverse()\n",
    "                return list_\n",
    "            return get_1_to_n_list(n - 1, list_+[n])\n",
    "        \n",
    "        for index, value in enumerate(permutations(get_1_to_n_list(n, []))):\n",
    "            if index == k-1:\n",
    "                return \"\".join([str(i) for i in value])\n",
    "        \n",
    "        #2022/12/05 06:19, succes\n",
    "```"
   ]
  },
  {
   "cell_type": "code",
   "execution_count": null,
   "id": "e91d84de-1bed-4ddb-b13a-2ab5585359bc",
   "metadata": {},
   "outputs": [],
   "source": []
  },
  {
   "cell_type": "code",
   "execution_count": null,
   "id": "d647b579-fc84-4903-b0ed-eaf5fe95afbe",
   "metadata": {},
   "outputs": [],
   "source": []
  },
  {
   "cell_type": "code",
   "execution_count": null,
   "id": "aeea2c8d-23e6-4c0f-bf08-a6ab125c305c",
   "metadata": {},
   "outputs": [],
   "source": []
  },
  {
   "cell_type": "code",
   "execution_count": 6,
   "id": "f2507fb3-5751-47c0-b9e7-10abbe07d64b",
   "metadata": {},
   "outputs": [
    {
     "data": {
      "text/plain": [
       "[1, 2, 3]"
      ]
     },
     "execution_count": 6,
     "metadata": {},
     "output_type": "execute_result"
    }
   ],
   "source": [
    "def get_1_to_n_list(n, list_):\n",
    "    if n == 0:\n",
    "        list_.reverse()\n",
    "        return list_\n",
    "    return get_1_to_n_list(n - 1, list_+[n])\n",
    "\n",
    "get_1_to_n_list(3, [])"
   ]
  }
 ],
 "metadata": {
  "kernelspec": {
   "display_name": "Python 3 (ipykernel)",
   "language": "python",
   "name": "python3"
  },
  "language_info": {
   "codemirror_mode": {
    "name": "ipython",
    "version": 3
   },
   "file_extension": ".py",
   "mimetype": "text/x-python",
   "name": "python",
   "nbconvert_exporter": "python",
   "pygments_lexer": "ipython3",
   "version": "3.10.8"
  }
 },
 "nbformat": 4,
 "nbformat_minor": 5
}
