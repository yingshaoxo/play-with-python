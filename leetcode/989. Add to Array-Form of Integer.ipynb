{
 "cells": [
  {
   "cell_type": "markdown",
   "id": "polyphonic-weapon",
   "metadata": {},
   "source": [
    "https://leetcode.com/problems/add-to-array-form-of-integer\n",
    "\n",
    "\n",
    "Runtime: 300 ms, faster than 58.13% of Python3 online submissions for Add to Array-Form of Integer.\n",
    "Memory Usage: 15.3 MB, less than 34.14% of Python3 online submissions for Add to Array-Form of Integer.\n",
    "\n",
    "\n",
    "```python\n",
    "class Solution:\n",
    "    def addToArrayForm(self, A: List[int], K: int) -> List[int]:\n",
    "        #6:43\n",
    "        return list(str(int(\"\".join([str(i) for i in A])) + K))\n",
    "        #6:44\n",
    "```"
   ]
  },
  {
   "cell_type": "code",
   "execution_count": null,
   "id": "acquired-copper",
   "metadata": {},
   "outputs": [],
   "source": []
  }
 ],
 "metadata": {
  "kernelspec": {
   "display_name": "Python 3",
   "language": "python",
   "name": "python3"
  },
  "language_info": {
   "codemirror_mode": {
    "name": "ipython",
    "version": 3
   },
   "file_extension": ".py",
   "mimetype": "text/x-python",
   "name": "python",
   "nbconvert_exporter": "python",
   "pygments_lexer": "ipython3",
   "version": "3.8.5"
  }
 },
 "nbformat": 4,
 "nbformat_minor": 5
}
