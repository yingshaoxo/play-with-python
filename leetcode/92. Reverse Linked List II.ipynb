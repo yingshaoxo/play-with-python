{
 "cells": [
  {
   "cell_type": "markdown",
   "id": "7511157b-eb91-4bdd-9a56-14f5555635a2",
   "metadata": {},
   "source": [
    "https://leetcode.com/problems/reverse-linked-list-ii\n",
    "\n",
    "\n",
    "Runtime: 28 ms, faster than 85.21% of Python3 online submissions for Reverse Linked List II.\n",
    "Memory Usage: 14.4 MB, less than 41.31% of Python3 online submissions for Reverse Linked List II.\n",
    "\n",
    "\n",
    "```python\n",
    "class Solution:\n",
    "    def reverseBetween(self, head: ListNode, left: int, right: int) -> ListNode:\n",
    "        #8:09\n",
    "        l = []\n",
    "        node = head\n",
    "        while (node != None):\n",
    "            l.append(node)\n",
    "            node = node.next\n",
    "        left -= 1\n",
    "        #right -= 1\n",
    "        l = l[:left] + list(reversed(l[left:right])) + l[right:]\n",
    "        for index, node in enumerate(l):\n",
    "            if index < len(l)-1:\n",
    "                node.next = l[index + 1]\n",
    "            else:\n",
    "                node.next = None\n",
    "        return l[0]\n",
    "        #8:13\n",
    "        #debug until 8:17\n",
    "```"
   ]
  },
  {
   "cell_type": "code",
   "execution_count": null,
   "id": "27c84013-477e-488d-918c-f4fb49504b09",
   "metadata": {},
   "outputs": [],
   "source": []
  }
 ],
 "metadata": {
  "kernelspec": {
   "display_name": "Python 3",
   "language": "python",
   "name": "python3"
  },
  "language_info": {
   "codemirror_mode": {
    "name": "ipython",
    "version": 3
   },
   "file_extension": ".py",
   "mimetype": "text/x-python",
   "name": "python",
   "nbconvert_exporter": "python",
   "pygments_lexer": "ipython3",
   "version": "3.8.6"
  }
 },
 "nbformat": 4,
 "nbformat_minor": 5
}
