{
 "cells": [
  {
   "cell_type": "markdown",
   "id": "persistent-marine",
   "metadata": {},
   "source": [
    "https://leetcode.com/problems/binary-tree-preorder-traversal/\n",
    "\n",
    "\n",
    "Runtime: 20 ms, faster than 99.20% of Python3 online submissions for Binary Tree Preorder Traversal.\n",
    "Memory Usage: 14.3 MB, less than 16.12% of Python3 online submissions for Binary Tree Preorder Traversal.\n",
    "\n",
    "\n",
    "```python\n",
    "class Solution:\n",
    "    def preorderTraversal(self, root: TreeNode) -> List[int]:\n",
    "        self.l = []\n",
    "        self.travel(root)\n",
    "        return self.l\n",
    "    \n",
    "    def travel(self, node):\n",
    "        current = node\n",
    "        if current == None:\n",
    "            return\n",
    "        self.l.append(current.val)\n",
    "        self.travel(node.left)\n",
    "        self.travel(node.right)\n",
    "```"
   ]
  }
 ],
 "metadata": {
  "kernelspec": {
   "display_name": "Python 3",
   "language": "python",
   "name": "python3"
  },
  "language_info": {
   "codemirror_mode": {
    "name": "ipython",
    "version": 3
   },
   "file_extension": ".py",
   "mimetype": "text/x-python",
   "name": "python",
   "nbconvert_exporter": "python",
   "pygments_lexer": "ipython3",
   "version": "3.8.5"
  }
 },
 "nbformat": 4,
 "nbformat_minor": 5
}
