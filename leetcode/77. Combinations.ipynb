{
 "cells": [
  {
   "cell_type": "markdown",
   "id": "liberal-baptist",
   "metadata": {},
   "source": [
    "https://leetcode.com/problems/combinations\n",
    "\n",
    "\n",
    "Runtime: 64 ms, faster than 99.96% of Python3 online submissions for Combinations.\n",
    "Memory Usage: 15.5 MB, less than 94.28% of Python3 online submissions for Combinations.\n",
    "\n",
    "\n",
    "```python\n",
    "from itertools import combinations\n",
    "\n",
    "class Solution:\n",
    "    def combine(self, n: int, k: int) -> List[List[int]]:\n",
    "        #6:44\n",
    "        nums = [i for i in range(1, n+1)]\n",
    "        return list(combinations(nums, k))\n",
    "        #6:46\n",
    "```"
   ]
  },
  {
   "cell_type": "code",
   "execution_count": null,
   "id": "destroyed-apparel",
   "metadata": {},
   "outputs": [],
   "source": []
  }
 ],
 "metadata": {
  "kernelspec": {
   "display_name": "Python 3",
   "language": "python",
   "name": "python3"
  },
  "language_info": {
   "codemirror_mode": {
    "name": "ipython",
    "version": 3
   },
   "file_extension": ".py",
   "mimetype": "text/x-python",
   "name": "python",
   "nbconvert_exporter": "python",
   "pygments_lexer": "ipython3",
   "version": "3.8.5"
  }
 },
 "nbformat": 4,
 "nbformat_minor": 5
}
