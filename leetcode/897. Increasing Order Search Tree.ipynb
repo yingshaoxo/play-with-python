{
 "cells": [
  {
   "cell_type": "markdown",
   "id": "floral-blues",
   "metadata": {},
   "source": [
    "https://leetcode.com/problems/increasing-order-search-tree\n",
    "\n",
    "\n",
    "Runtime: 36 ms, faster than 15.19% of Python3 online submissions for Increasing Order Search Tree.\n",
    "Memory Usage: 14.3 MB, less than 72.23% of Python3 online submissions for Increasing Order Search Tree.\n",
    "\n",
    "\n",
    "```python\n",
    "class Solution:\n",
    "    def increasingBST(self, root: TreeNode) -> TreeNode:\n",
    "        #6:05\n",
    "        self.new_root = TreeNode()\n",
    "        self.node = self.new_root\n",
    "        self.travel(root)\n",
    "        return self.new_root.right\n",
    "        #6:11\n",
    "        \n",
    "    def travel(self, node):\n",
    "        if node is None:\n",
    "            return\n",
    "        self.travel(node.left)\n",
    "        \n",
    "        self.node.right = TreeNode()\n",
    "        self.node.right.val = node.val\n",
    "        self.node = self.node.right\n",
    "            \n",
    "        self.travel(node.right)\n",
    "```"
   ]
  },
  {
   "cell_type": "code",
   "execution_count": null,
   "id": "valid-great",
   "metadata": {},
   "outputs": [],
   "source": []
  }
 ],
 "metadata": {
  "kernelspec": {
   "display_name": "Python 3",
   "language": "python",
   "name": "python3"
  },
  "language_info": {
   "codemirror_mode": {
    "name": "ipython",
    "version": 3
   },
   "file_extension": ".py",
   "mimetype": "text/x-python",
   "name": "python",
   "nbconvert_exporter": "python",
   "pygments_lexer": "ipython3",
   "version": "3.8.5"
  }
 },
 "nbformat": 4,
 "nbformat_minor": 5
}
