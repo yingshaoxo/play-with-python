{
 "cells": [
  {
   "cell_type": "code",
   "execution_count": 12,
   "id": "cardiac-breath",
   "metadata": {},
   "outputs": [],
   "source": [
    "a = [[1,2,3], [4,5,6]]"
   ]
  },
  {
   "cell_type": "markdown",
   "id": "worth-capture",
   "metadata": {},
   "source": [
    "https://leetcode.com/problems/binary-search\n",
    "\n",
    "\n",
    "Runtime: 236 ms, faster than 68.51% of Python3 online submissions for Binary Search.\n",
    "Memory Usage: 15.6 MB, less than 32.18% of Python3 online submissions for Binary Search.\n",
    "\n",
    "\n",
    "```python\n",
    "class Solution:\n",
    "    def search(self, nums: List[int], target: int) -> int:\n",
    "        try:\n",
    "            return nums.index(target)\n",
    "        except Exception as e:\n",
    "            return -1\n",
    "```"
   ]
  },
  {
   "cell_type": "code",
   "execution_count": null,
   "id": "dried-engineering",
   "metadata": {},
   "outputs": [],
   "source": []
  }
 ],
 "metadata": {
  "kernelspec": {
   "display_name": "Python 3",
   "language": "python",
   "name": "python3"
  },
  "language_info": {
   "codemirror_mode": {
    "name": "ipython",
    "version": 3
   },
   "file_extension": ".py",
   "mimetype": "text/x-python",
   "name": "python",
   "nbconvert_exporter": "python",
   "pygments_lexer": "ipython3",
   "version": "3.8.5"
  }
 },
 "nbformat": 4,
 "nbformat_minor": 5
}
