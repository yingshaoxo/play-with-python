{
 "cells": [
  {
   "cell_type": "markdown",
   "id": "encouraging-finnish",
   "metadata": {},
   "source": [
    "https://leetcode.com/problems/minimum-distance-between-bst-nodes\n",
    "\n",
    "\n",
    "Runtime: 36 ms, faster than 15.73% of Python3 online submissions for Minimum Distance Between BST Nodes.\n",
    "Memory Usage: 14.5 MB, less than 9.96% of Python3 online submissions for Minimum Distance Between BST Nodes.\n",
    "\n",
    "\n",
    "```python\n",
    "class Solution:\n",
    "    min_distance = float(\"inf\")\n",
    "    values = []\n",
    "    \n",
    "    def travel(self, node: TreeNode):\n",
    "        if node:\n",
    "            value = node.val\n",
    "            if len(self.values):\n",
    "                new_map = list(map(lambda x: abs(x-value), self.values))\n",
    "                #print(new_map)\n",
    "                new_distance = min(new_map)\n",
    "                if new_distance < self.min_distance:\n",
    "                    self.min_distance = new_distance\n",
    "            self.values.append(value)\n",
    "            \n",
    "            self.travel(node.left)\n",
    "            self.travel(node.right)\n",
    "        \n",
    "    def minDiffInBST(self, root: TreeNode) -> int:\n",
    "        #7:46\n",
    "        self.min_distance = float(\"inf\")\n",
    "        self.values = []\n",
    "        self.travel(root)\n",
    "        return self.min_distance\n",
    "        #7:54\n",
    "```"
   ]
  },
  {
   "cell_type": "code",
   "execution_count": null,
   "id": "above-crown",
   "metadata": {},
   "outputs": [],
   "source": []
  }
 ],
 "metadata": {
  "kernelspec": {
   "display_name": "Python 3",
   "language": "python",
   "name": "python3"
  },
  "language_info": {
   "codemirror_mode": {
    "name": "ipython",
    "version": 3
   },
   "file_extension": ".py",
   "mimetype": "text/x-python",
   "name": "python",
   "nbconvert_exporter": "python",
   "pygments_lexer": "ipython3",
   "version": "3.8.5"
  }
 },
 "nbformat": 4,
 "nbformat_minor": 5
}
