{
 "cells": [
  {
   "cell_type": "markdown",
   "id": "potential-couple",
   "metadata": {},
   "source": [
    "https://leetcode.com/problems/valid-mountain-array\n",
    "\n",
    "\n",
    "Runtime: 204 ms, faster than 58.13% of Python3 online submissions for Valid Mountain Array.\n",
    "Memory Usage: 15.6 MB, less than 55.28% of Python3 online submissions for Valid Mountain Array.\n",
    "\n",
    "\n",
    "```python\n",
    "class Solution:\n",
    "    def validMountainArray(self, arr: List[int]) -> bool:\n",
    "        #4:52\n",
    "        up = False\n",
    "        down = False\n",
    "        count = 0\n",
    "        for i, n in enumerate(arr):\n",
    "            if i != 0:\n",
    "                previous = arr[i-1]\n",
    "                current = arr[i]\n",
    "                if previous == current:\n",
    "                    return False\n",
    "                if up == False:\n",
    "                    if (current > previous):\n",
    "                        up = True\n",
    "                    elif (current < previous):\n",
    "                        return False\n",
    "                if up == True:\n",
    "                    if (current < previous):\n",
    "                        down = True\n",
    "                        for new_i,n in enumerate(arr[i:]):\n",
    "                            previous = arr[new_i+i-1]\n",
    "                            current = arr[new_i+i]\n",
    "                            if previous == current:\n",
    "                                return False\n",
    "                            if (current > previous):\n",
    "                                return False\n",
    "                        return True\n",
    "       #5:13\n",
    "```"
   ]
  },
  {
   "cell_type": "code",
   "execution_count": null,
   "id": "japanese-satellite",
   "metadata": {},
   "outputs": [],
   "source": []
  }
 ],
 "metadata": {
  "kernelspec": {
   "display_name": "Python 3",
   "language": "python",
   "name": "python3"
  },
  "language_info": {
   "codemirror_mode": {
    "name": "ipython",
    "version": 3
   },
   "file_extension": ".py",
   "mimetype": "text/x-python",
   "name": "python",
   "nbconvert_exporter": "python",
   "pygments_lexer": "ipython3",
   "version": "3.8.5"
  }
 },
 "nbformat": 4,
 "nbformat_minor": 5
}
