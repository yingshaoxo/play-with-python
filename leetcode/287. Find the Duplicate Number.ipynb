{
 "cells": [
  {
   "cell_type": "markdown",
   "id": "supported-resident",
   "metadata": {},
   "source": [
    "https://leetcode.com/problems/find-the-duplicate-number\n",
    "\n",
    "\n",
    "Runtime: 68 ms, faster than 55.36% of Python3 online submissions for Find the Duplicate Number.\n",
    "Memory Usage: 18.7 MB, less than 11.37% of Python3 online submissions for Find the Duplicate Number.\n",
    "\n",
    "\n",
    "```python\n",
    "from collections import Counter\n",
    "\n",
    "class Solution:\n",
    "    def findDuplicate(self, nums: List[int]) -> int:\n",
    "        c = Counter(nums)\n",
    "        return c.most_common()[0][0]\n",
    "```"
   ]
  },
  {
   "cell_type": "code",
   "execution_count": null,
   "id": "appropriate-framing",
   "metadata": {},
   "outputs": [],
   "source": []
  }
 ],
 "metadata": {
  "kernelspec": {
   "display_name": "Python 3",
   "language": "python",
   "name": "python3"
  },
  "language_info": {
   "codemirror_mode": {
    "name": "ipython",
    "version": 3
   },
   "file_extension": ".py",
   "mimetype": "text/x-python",
   "name": "python",
   "nbconvert_exporter": "python",
   "pygments_lexer": "ipython3",
   "version": "3.8.5"
  }
 },
 "nbformat": 4,
 "nbformat_minor": 5
}
