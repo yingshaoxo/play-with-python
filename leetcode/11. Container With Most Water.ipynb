{
 "cells": [
  {
   "cell_type": "markdown",
   "id": "d719ac2a-275b-4421-ba6d-a584f19cebf9",
   "metadata": {},
   "source": [
    "https://leetcode.com/problems/container-with-most-water/"
   ]
  },
  {
   "cell_type": "markdown",
   "id": "61ed8b7f-dc5d-47ad-a6b5-17c5f7247828",
   "metadata": {},
   "source": [
    "Time Limit Exceeded"
   ]
  },
  {
   "cell_type": "code",
   "execution_count": null,
   "id": "215eb1e1-b07d-404e-9473-0212a6a8f1e6",
   "metadata": {},
   "outputs": [],
   "source": [
    "from math import inf\n",
    "\n",
    "class Solution:\n",
    "    def getWaterFromTwoLine(self, tuple1, tuple2):\n",
    "        return abs(tuple1[0] - tuple2[0]) * min(tuple1[1], tuple2[1])\n",
    "        \n",
    "    \n",
    "    def maxArea(self, height: List[int]) -> int:\n",
    "        #2022.1.4 7:46\n",
    "        verticalLineDict = {}\n",
    "        for i, h in enumerate(height):\n",
    "            verticalLineDict[i] = h\n",
    "        \n",
    "        verticalLineDict = dict(sorted(verticalLineDict.items(), key=lambda item: item[1], reverse=True))\n",
    "        \n",
    "        #print(verticalLineDict)\n",
    "        maxValue = -inf\n",
    "        items = list(verticalLineDict.items())\n",
    "        for index, tuple1 in enumerate(items):\n",
    "            for tuple2 in items[index:]:\n",
    "                if tuple1 != tuple2:\n",
    "                    value = self.getWaterFromTwoLine(tuple1, tuple2)\n",
    "                    if value > maxValue:\n",
    "                        maxValue = value\n",
    "                    #print(tuple1, tuple2)\n",
    "        \n",
    "        return maxValue\n",
    "        #2022.1.4 8:08 time exceeded"
   ]
  }
 ],
 "metadata": {
  "kernelspec": {
   "display_name": "Python 3 (ipykernel)",
   "language": "python",
   "name": "python3"
  },
  "language_info": {
   "codemirror_mode": {
    "name": "ipython",
    "version": 3
   },
   "file_extension": ".py",
   "mimetype": "text/x-python",
   "name": "python",
   "nbconvert_exporter": "python",
   "pygments_lexer": "ipython3",
   "version": "3.9.7"
  }
 },
 "nbformat": 4,
 "nbformat_minor": 5
}
